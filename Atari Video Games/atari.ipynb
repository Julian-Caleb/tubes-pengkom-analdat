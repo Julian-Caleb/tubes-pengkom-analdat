{
 "cells": [
  {
   "cell_type": "code",
   "execution_count": 7,
   "metadata": {},
   "outputs": [],
   "source": [
    "# Import dulu\n",
    "import pandas as pd\n",
    "import matplotlib as mat\n",
    "\n",
    "# Terus di read\n",
    "atari = pd.read_csv(\"df_3.csv\")"
   ]
  },
  {
   "cell_type": "code",
   "execution_count": 56,
   "metadata": {},
   "outputs": [
    {
     "name": "stdout",
     "output_type": "stream",
     "text": [
      "----- Deskripsi Data -----\n",
      "\n",
      "File data yang digunakan tugas besar pengkom analisis data ini berjudul 'The Best Atari 2600 Games of All Time!'. Dataset ini berisi daftar lengkap game Atari 2600 terbaik sepanjang masa, serta informasi dasar tentang setiap game seperti judul, kode, perancang atau programmer, tahun rilis, genre, dan catatan.\n",
      "\n",
      "Format file data yang digunakan menggunakan .csv extension. Dataset tersebut didapatkan dari https://www.kaggle.com/datasets/thedevastator/the-best-atari-2600-games-of-all-time. File yang digunakan untuk tubes pengkom analisis data berdimensi 134 baris 8 kolom. Ukuran file yang digunakan untuk tubes pengkom analisis data ini adalah 11264 bytes.\n"
     ]
    }
   ],
   "source": [
    "# Deskripsi file\n",
    "import os\n",
    "print(\"----- Deskripsi Data -----\\n\")\n",
    "print(\"File data yang digunakan tugas besar pengkom analisis data ini berjudul 'The Best Atari 2600 Games of All Time!'. Dataset ini berisi daftar lengkap game Atari 2600 terbaik sepanjang masa, serta informasi dasar tentang setiap game seperti judul, kode, perancang atau programmer, tahun rilis, genre, dan catatan.\\n\")\n",
    "print(\"Format file data yang digunakan menggunakan\", os.path.splitext('def_3.csv')[1] ,\"extension. Dataset tersebut didapatkan dari https://www.kaggle.com/datasets/thedevastator/the-best-atari-2600-games-of-all-time.\", \"File yang digunakan untuk tubes pengkom analisis data berdimensi\", len(atari),\"baris\", len(atari.columns) ,\"kolom.\", \"Ukuran file yang digunakan untuk tubes pengkom analisis data ini adalah\", os.path.getsize(\"df_3.csv\"), \"bytes.\")"
   ]
  },
  {
   "cell_type": "code",
   "execution_count": null,
   "metadata": {},
   "outputs": [],
   "source": []
  },
  {
   "cell_type": "code",
   "execution_count": null,
   "metadata": {},
   "outputs": [],
   "source": []
  },
  {
   "cell_type": "code",
   "execution_count": 77,
   "metadata": {},
   "outputs": [
    {
     "name": "stdout",
     "output_type": "stream",
     "text": [
      "----- Karakteristik Data -----\n",
      "\n",
      "Atribut yang terdapat di dalam dataset antara lain: \n",
      "1. Atari title\n",
      "2. Sears title\n",
      "3. Code\n",
      "4. Designer or programmer\n",
      "5. Year\n",
      "6. Genre\n",
      "7. Notes\n",
      "Berikut penjelasan masing-masing atribut/kolom: \n",
      "1. Atari title merupakan judul dari game-game Atari yang berada di dalam dataset. Atribut ini berjenis data kualitatif.\n",
      "2. Sears title merupakan judul singkat atau header dari game-game Atari yang berada di dalam dataset. Atribut ini berjenis data kualitatif.\n",
      "3. Code merupakan kode game dari game-game Atari dalam dataset. Atribut ini berjenis data kualitatif.\n"
     ]
    }
   ],
   "source": [
    "print(\"----- Karakteristik Data -----\\n\")\n",
    "print(\"Atribut yang terdapat di dalam dataset antara lain: \")\n",
    "for i in range (1, len(atari.columns)) :\n",
    "   print(f\"{i}. {atari.columns[i]}\")\n",
    "print(\"Berikut penjelasan masing-masing atribut/kolom: \")\n",
    "print(\"1. Atari title merupakan judul dari game-game Atari yang berada di dalam dataset. Atribut ini berjenis data kualitatif.\")\n",
    "print(\"2. Sears title merupakan judul singkat atau header dari game-game Atari yang berada di dalam dataset. Atribut ini berjenis data kualitatif.\")\n",
    "print(\"3. Code merupakan kode game dari game-game Atari dalam dataset. Atribut ini berjenis data kualitatif.\")\n",
    "print(\"4. Designer or programmer adalah orang-orang yang terlibat dalam pembuatan game Atari tersebut. Atribut ini berjenis data kualitatif.\")\n",
    "print(\"5. Year merupakan tahun waktu game Atari dibuat. Atribut ini berjenis data kuantitatif.\")\n",
    "print(\"6. Genre merupakan genre dari game-game Atari dalam dataset. Atribut ini berjenis data kualitatif.\")\n",
    "print(\"7. Notes merupakan catatan tambahan dari game-game Atari dalam dataset. Atribut ini berjenis data kualitatif.\")"
   ]
  },
  {
   "cell_type": "code",
   "execution_count": null,
   "metadata": {},
   "outputs": [],
   "source": []
  },
  {
   "cell_type": "code",
   "execution_count": null,
   "metadata": {},
   "outputs": [],
   "source": []
  }
 ],
 "metadata": {
  "kernelspec": {
   "display_name": "Python 3.11.0 64-bit",
   "language": "python",
   "name": "python3"
  },
  "language_info": {
   "codemirror_mode": {
    "name": "ipython",
    "version": 3
   },
   "file_extension": ".py",
   "mimetype": "text/x-python",
   "name": "python",
   "nbconvert_exporter": "python",
   "pygments_lexer": "ipython3",
   "version": "3.11.0"
  },
  "orig_nbformat": 4,
  "vscode": {
   "interpreter": {
    "hash": "4d533db97f1a493f1c0e30155616442f08e4c1e25c1b2ec566805f34b146e544"
   }
  }
 },
 "nbformat": 4,
 "nbformat_minor": 2
}
