{
 "cells": [
  {
   "cell_type": "code",
   "execution_count": 1,
   "metadata": {},
   "outputs": [],
   "source": [
    "# Import dulu\n",
    "import pandas as pd\n",
    "import matplotlib as plt\n",
    "\n",
    "# Terus di read\n",
    "phones = pd.read_csv(\"phones_data.csv\")"
   ]
  },
  {
   "cell_type": "code",
   "execution_count": 2,
   "metadata": {},
   "outputs": [
    {
     "name": "stdout",
     "output_type": "stream",
     "text": [
      ".csv\n"
     ]
    }
   ],
   "source": [
    "# Format dataset \n",
    "import os\n",
    "print(os.path.splitext(\"phones_data.csv\")[1])"
   ]
  },
  {
   "cell_type": "code",
   "execution_count": 3,
   "metadata": {},
   "outputs": [
    {
     "name": "stdout",
     "output_type": "stream",
     "text": [
      "1224 baris 13 kolom\n"
     ]
    }
   ],
   "source": [
    "# Dimensi dataset\n",
    "print(f\"{len(phones)} baris {len(phones.columns)} kolom\")"
   ]
  },
  {
   "cell_type": "code",
   "execution_count": 4,
   "metadata": {},
   "outputs": [
    {
     "name": "stdout",
     "output_type": "stream",
     "text": [
      "115924 bytes\n"
     ]
    }
   ],
   "source": [
    "# Ukuran file dataset\n",
    "import os\n",
    "print(os.path.getsize(\"phones_data.csv\"), \"bytes\")"
   ]
  },
  {
   "cell_type": "code",
   "execution_count": 5,
   "metadata": {},
   "outputs": [
    {
     "name": "stdout",
     "output_type": "stream",
     "text": [
      "Atribut yang terdapat di dalam dataset antara lain: \n",
      "1. Unnamed: 0\n",
      "2. brand_name\n",
      "3. model_name\n",
      "4. os\n",
      "5. popularity\n",
      "6. best_price\n",
      "7. lowest_price\n",
      "8. highest_price\n",
      "9. sellers_amount\n",
      "10. screen_size\n",
      "11. memory_size\n",
      "12. battery_size\n",
      "13. release_date\n"
     ]
    }
   ],
   "source": [
    "# Atribut dalam dataset\n",
    "print(\"Atribut yang terdapat di dalam dataset antara lain: \")\n",
    "for i in range (0, len(phones.columns)) :\n",
    "   print(f\"{i+1}. {phones.columns[i]}\")"
   ]
  },
  {
   "cell_type": "code",
   "execution_count": 6,
   "metadata": {},
   "outputs": [
    {
     "name": "stdout",
     "output_type": "stream",
     "text": [
      "Nama operating system HP\n",
      "Android         915\n",
      "iOS             103\n",
      "OxygenOS          3\n",
      "WindowsPhone      3\n",
      "EMUI              2\n",
      "KAIOS             1\n",
      "Name: os, dtype: int64\n",
      "Berapa banyak yang max: 1\n",
      "Max: Android\n",
      "Berapa banyak yang min: 1\n",
      "Min: KAIOS\n",
      "Banyak data kosong: 197\n",
      "Persentase data kosong: 16.09 %\n"
     ]
    }
   ],
   "source": [
    "# operating system\n",
    "print(\"Nama operating system HP\")\n",
    "print(phones[\"os\"].value_counts())\n",
    "print(\"Berapa banyak yang max:\", (phones[\"os\"].value_counts() == phones[\"os\"].value_counts().max()).sum())\n",
    "print(\"Max:\", phones[\"os\"].value_counts().idxmax())\n",
    "print(\"Berapa banyak yang min:\", (phones[\"os\"].value_counts() == phones[\"os\"].value_counts().min()).sum())\n",
    "print(\"Min:\", phones[\"os\"].value_counts().idxmin())\n",
    "print(\"Banyak data kosong:\", phones[\"os\"].isnull().sum())\n",
    "print(\"Persentase data kosong:\", round((((phones[\"os\"].isnull().sum())/(len(phones)))*100),2), \"%\")"
   ]
  },
  {
   "cell_type": "code",
   "execution_count": 7,
   "metadata": {},
   "outputs": [
    {
     "name": "stdout",
     "output_type": "stream",
     "text": [
      "Popularitas HP\n",
      "Paling populer\n",
      "1147    Apple\n",
      "Name: brand_name, dtype: object\n",
      "1147    iPhone 12 Pro 128GB Pacific Blue (MGMN3/MGLR3)\n",
      "Name: model_name, dtype: object\n",
      "Paling tidak populer\n",
      "859    S-TELL\n",
      "Name: brand_name, dtype: object\n",
      "859    S1-07 Gold\n",
      "Name: model_name, dtype: object\n",
      "Banyak data kosong: 0\n"
     ]
    }
   ],
   "source": [
    "# popularity\n",
    "print(\"Popularitas HP\")\n",
    "popularity = phones.sort_values([\"popularity\"], ascending=[1])\n",
    "print(\"Paling populer\")\n",
    "print(popularity[1223:1224][\"brand_name\"])\n",
    "print(popularity[1223:1224][\"model_name\"])\n",
    "print(\"Paling tidak populer\")\n",
    "print(popularity[0:1][\"brand_name\"])\n",
    "print(popularity[0:1][\"model_name\"])\n",
    "print(\"Banyak data kosong:\", phones[\"popularity\"].isnull().sum())\n"
   ]
  },
  {
   "cell_type": "code",
   "execution_count": 8,
   "metadata": {},
   "outputs": [
    {
     "name": "stdout",
     "output_type": "stream",
     "text": [
      "Range harga terbaik penjualan\n",
      "min: 214.0\n",
      "     Unnamed: 0 brand_name      model_name   os  popularity  best_price  \\\n",
      "141         141      Astro  A144 Black/Red  NaN         519       214.0   \n",
      "\n",
      "     lowest_price  highest_price  sellers_amount  screen_size  memory_size  \\\n",
      "141         199.0          229.0               2         1.77        0.032   \n",
      "\n",
      "     battery_size release_date  \n",
      "141         600.0       9-2019  \n",
      "max: 56082.0\n",
      "     Unnamed: 0 brand_name                                    model_name  \\\n",
      "600         600     HUAWEI  Mate Xs 8/512GB Interstellar blue (51095CSQ)   \n",
      "\n",
      "          os  popularity  best_price  lowest_price  highest_price  \\\n",
      "600  Android         740     56082.0       49999.0        69999.0   \n",
      "\n",
      "     sellers_amount  screen_size  memory_size  battery_size release_date  \n",
      "600               6          NaN        512.0        4500.0       7-2020  \n",
      "Banyak data kosong: 0\n",
      "Persentase data kosong: 0.0 %\n"
     ]
    }
   ],
   "source": [
    "# best_price\n",
    "print(\"Range harga terbaik penjualan\")\n",
    "print(\"min:\", phones[\"best_price\"].min())\n",
    "print(phones.loc[phones[\"best_price\"] == phones[\"best_price\"].min()])\n",
    "print(\"max:\", phones[\"best_price\"].max())\n",
    "print(phones.loc[phones[\"best_price\"] == phones[\"best_price\"].max()])\n",
    "print(\"Banyak data kosong:\", phones[\"best_price\"].isnull().sum())\n",
    "print(\"Persentase data kosong:\", round((((phones[\"best_price\"].isnull().sum())/(len(phones)))*100),2), \"%\")"
   ]
  },
  {
   "cell_type": "code",
   "execution_count": 9,
   "metadata": {},
   "outputs": [
    {
     "name": "stdout",
     "output_type": "stream",
     "text": [
      "Range harga terendah penjualan\n",
      "min: 198.0\n",
      "      Unnamed: 0 brand_name  model_name   os  popularity  best_price  \\\n",
      "1094        1094       Nomi  i144m Blue  NaN         844       235.0   \n",
      "\n",
      "      lowest_price  highest_price  sellers_amount  screen_size  memory_size  \\\n",
      "1094         198.0          314.0              24         1.44          NaN   \n",
      "\n",
      "      battery_size release_date  \n",
      "1094         600.0      12-2019  \n",
      "max: 49999.0\n",
      "     Unnamed: 0 brand_name                                    model_name  \\\n",
      "600         600     HUAWEI  Mate Xs 8/512GB Interstellar blue (51095CSQ)   \n",
      "\n",
      "          os  popularity  best_price  lowest_price  highest_price  \\\n",
      "600  Android         740     56082.0       49999.0        69999.0   \n",
      "\n",
      "     sellers_amount  screen_size  memory_size  battery_size release_date  \n",
      "600               6          NaN        512.0        4500.0       7-2020  \n",
      "Banyak data kosong: 260\n",
      "Persentase data kosong: 21.24 %\n"
     ]
    }
   ],
   "source": [
    "# lowest_price\n",
    "print(\"Range harga terendah penjualan\")\n",
    "print(\"min:\", phones[\"lowest_price\"].min())\n",
    "print(phones.loc[phones[\"lowest_price\"] == phones[\"lowest_price\"].min()])\n",
    "print(\"max:\", phones[\"lowest_price\"].max())\n",
    "print(phones.loc[phones[\"lowest_price\"] == phones[\"lowest_price\"].max()])\n",
    "print(\"Banyak data kosong:\", phones[\"lowest_price\"].isnull().sum())\n",
    "print(\"Persentase data kosong:\", round((((phones[\"lowest_price\"].isnull().sum())/(len(phones)))*100),2), \"%\")"
   ]
  },
  {
   "cell_type": "code",
   "execution_count": 10,
   "metadata": {},
   "outputs": [
    {
     "name": "stdout",
     "output_type": "stream",
     "text": [
      "Range harga tertinggi penjualan\n",
      "min: 229.0\n",
      "      Unnamed: 0 brand_name      model_name   os  popularity  best_price  \\\n",
      "141          141      Astro  A144 Black/Red  NaN         519       214.0   \n",
      "1093        1093       Nomi     i144m Black  NaN         492       220.0   \n",
      "\n",
      "      lowest_price  highest_price  sellers_amount  screen_size  memory_size  \\\n",
      "141          199.0          229.0               2         1.77        0.032   \n",
      "1093         209.0          229.0               4         1.44          NaN   \n",
      "\n",
      "      battery_size release_date  \n",
      "141          600.0       9-2019  \n",
      "1093         600.0       9-2020  \n",
      "max: 69999.0\n",
      "     Unnamed: 0 brand_name                                    model_name  \\\n",
      "600         600     HUAWEI  Mate Xs 8/512GB Interstellar blue (51095CSQ)   \n",
      "\n",
      "          os  popularity  best_price  lowest_price  highest_price  \\\n",
      "600  Android         740     56082.0       49999.0        69999.0   \n",
      "\n",
      "     sellers_amount  screen_size  memory_size  battery_size release_date  \n",
      "600               6          NaN        512.0        4500.0       7-2020  \n",
      "Banyak data kosong: 260\n",
      "Persentase data kosong: 21.24 %\n"
     ]
    }
   ],
   "source": [
    "# highest_price\n",
    "print(\"Range harga tertinggi penjualan\")\n",
    "print(\"min:\", phones[\"highest_price\"].min())\n",
    "print(phones.loc[phones[\"highest_price\"] == phones[\"highest_price\"].min()])\n",
    "print(\"max:\", phones[\"highest_price\"].max())\n",
    "print(phones.loc[phones[\"highest_price\"] == phones[\"highest_price\"].max()])\n",
    "print(\"Banyak data kosong:\", phones[\"highest_price\"].isnull().sum())\n",
    "print(\"Persentase data kosong:\", round((((phones[\"highest_price\"].isnull().sum())/(len(phones)))*100),2), \"%\")"
   ]
  },
  {
   "cell_type": "code",
   "execution_count": 11,
   "metadata": {},
   "outputs": [
    {
     "name": "stdout",
     "output_type": "stream",
     "text": [
      "Range banyak penjual\n",
      "min: 1\n",
      "Banyak HP dengan penjual minimal: 21\n",
      "max: 125\n",
      "Banyak HP dengan penjual minimal: 1\n",
      "Banyak data kosong: 0\n",
      "Persentase data kosong: 0.0 %\n"
     ]
    }
   ],
   "source": [
    "# sellers_amount\n",
    "print(\"Range banyak penjual\")\n",
    "print(\"min:\", phones[\"sellers_amount\"].min())\n",
    "print(\"Banyak HP dengan penjual minimal:\", (phones[\"sellers_amount\"].value_counts() == phones[\"sellers_amount\"].value_counts().min()).sum())\n",
    "print(\"max:\", phones[\"sellers_amount\"].max())\n",
    "print(\"Banyak HP dengan penjual minimal:\", (phones[\"sellers_amount\"].value_counts() == phones[\"sellers_amount\"].value_counts().max()).sum())\n",
    "print(\"Banyak data kosong:\", phones[\"sellers_amount\"].isnull().sum())\n",
    "print(\"Persentase data kosong:\", round((((phones[\"sellers_amount\"].isnull().sum())/(len(phones)))*100),2), \"%\")"
   ]
  },
  {
   "cell_type": "code",
   "execution_count": 12,
   "metadata": {},
   "outputs": [
    {
     "name": "stdout",
     "output_type": "stream",
     "text": [
      "Range ukuran HP dibuat (inch)\n",
      "min: 1.4\n",
      "     Unnamed: 0 brand_name model_name   os  popularity  best_price  \\\n",
      "584         584     Maxcom      MM111  NaN         453       563.0   \n",
      "585         585     Maxcom      MM111  NaN         458       563.0   \n",
      "\n",
      "     lowest_price  highest_price  sellers_amount  screen_size  memory_size  \\\n",
      "584         526.0          688.0              11          1.4        0.032   \n",
      "585         526.0          688.0              11          1.4        0.032   \n",
      "\n",
      "     battery_size release_date  \n",
      "584         460.0      12-2020  \n",
      "585         460.0      12-2020  \n",
      "max: 8.1\n",
      "     Unnamed: 0 brand_name                         model_name       os  \\\n",
      "915         915  Microsoft  Surface Duo 6GB/256GB (TGM-00001)  Android   \n",
      "\n",
      "     popularity  best_price  lowest_price  highest_price  sellers_amount  \\\n",
      "915         501     44232.0       42999.0        46879.0               5   \n",
      "\n",
      "     screen_size  memory_size  battery_size release_date  \n",
      "915          8.1        256.0        3577.0       1-2021  \n",
      "Banyak data kosong: 2\n",
      "Persentase data kosong: 0.16 %\n"
     ]
    }
   ],
   "source": [
    "# screen_size\n",
    "print(\"Range ukuran HP dibuat (inch)\")\n",
    "print(\"min:\", phones[\"screen_size\"].min())\n",
    "print(phones.loc[phones[\"screen_size\"] == phones[\"screen_size\"].min()])\n",
    "print(\"max:\", phones[\"screen_size\"].max())\n",
    "print(phones.loc[phones[\"screen_size\"] == phones[\"screen_size\"].max()])\n",
    "print(\"Banyak data kosong:\", phones[\"screen_size\"].isnull().sum())\n",
    "print(\"Persentase data kosong:\", round((((phones[\"screen_size\"].isnull().sum())/(len(phones)))*100),2), \"%\")\n"
   ]
  },
  {
   "cell_type": "code",
   "execution_count": 13,
   "metadata": {},
   "outputs": [
    {
     "name": "stdout",
     "output_type": "stream",
     "text": [
      "Range memori HP (GB)\n",
      "min: 0.0032\n",
      "     Unnamed: 0    brand_name                 model_name   os  popularity  \\\n",
      "980         980  Sigma mobile         X-treme DZ68 Black  NaN         136   \n",
      "981         981  Sigma mobile  X-treme DZ68 Black-yellow  NaN         289   \n",
      "982         982  Sigma mobile  X-treme DZ68 Black-yellow  NaN         327   \n",
      "\n",
      "     best_price  lowest_price  highest_price  sellers_amount  screen_size  \\\n",
      "980      2066.0        2050.0         2099.0               3          2.4   \n",
      "981      2049.0        1999.0         2099.0               2          2.4   \n",
      "982      2049.0        1999.0         2099.0               2          2.4   \n",
      "\n",
      "     memory_size  battery_size release_date  \n",
      "980       0.0032        4500.0      10-2018  \n",
      "981       0.0032        4500.0      10-2018  \n",
      "982       0.0032        4500.0      10-2018  \n",
      "max: 1000.0\n",
      "     Unnamed: 0 brand_name                                         model_name  \\\n",
      "482         482    Samsung     Galaxy S10+ SM-G975 DS 1TB Black (SM-G975FCKH)   \n",
      "483         483    Samsung  Galaxy S10+ SM-G975 DS 1TB Ceramic White (SM-G...   \n",
      "490         490    Samsung                  Galaxy S10+ SM-G9750 DS 1TB Black   \n",
      "\n",
      "          os  popularity  best_price  lowest_price  highest_price  \\\n",
      "482  Android         847     22932.0       20995.0        47292.0   \n",
      "483  Android         795     23137.0       20995.0        47292.0   \n",
      "490  Android          66     21454.0       20954.0        21954.0   \n",
      "\n",
      "     sellers_amount  screen_size  memory_size  battery_size release_date  \n",
      "482              22          6.4       1000.0        4000.0       2-2019  \n",
      "483              22          6.4       1000.0        4000.0       2-2019  \n",
      "490               3          6.4       1000.0        4000.0       2-2019  \n",
      "Banyak data kosong: 112\n",
      "Persentase data kosong: 9.15 %\n"
     ]
    }
   ],
   "source": [
    "# memory_size\n",
    "print(\"Range memori HP (GB)\")\n",
    "print(\"min:\", phones[\"memory_size\"].min())\n",
    "print(phones.loc[phones[\"memory_size\"] == phones[\"memory_size\"].min()])\n",
    "print(\"max:\", phones[\"memory_size\"].max())\n",
    "print(phones.loc[phones[\"memory_size\"] == phones[\"memory_size\"].max()])\n",
    "print(\"Banyak data kosong:\", phones[\"memory_size\"].isnull().sum())\n",
    "print(\"Persentase data kosong:\", round((((phones[\"memory_size\"].isnull().sum())/(len(phones)))*100),2), \"%\")\n"
   ]
  },
  {
   "cell_type": "code",
   "execution_count": 14,
   "metadata": {},
   "outputs": [
    {
     "name": "stdout",
     "output_type": "stream",
     "text": [
      "Range kapasitas bateri HP (mAh)\n",
      "min: 460.0\n",
      "     Unnamed: 0 brand_name model_name   os  popularity  best_price  \\\n",
      "584         584     Maxcom      MM111  NaN         453       563.0   \n",
      "585         585     Maxcom      MM111  NaN         458       563.0   \n",
      "\n",
      "     lowest_price  highest_price  sellers_amount  screen_size  memory_size  \\\n",
      "584         526.0          688.0              11          1.4        0.032   \n",
      "585         526.0          688.0              11          1.4        0.032   \n",
      "\n",
      "     battery_size release_date  \n",
      "584         460.0      12-2020  \n",
      "585         460.0      12-2020  \n",
      "max: 18800.0\n",
      "     Unnamed: 0 brand_name model_name   os  popularity  best_price  \\\n",
      "897         897      MAFAM  SUN6 Blue  NaN         282       899.0   \n",
      "\n",
      "     lowest_price  highest_price  sellers_amount  screen_size  memory_size  \\\n",
      "897           NaN            NaN               1          3.0          NaN   \n",
      "\n",
      "     battery_size release_date  \n",
      "897       18800.0      12-2019  \n",
      "Banyak data kosong: 10\n",
      "Persentase data kosong: 0.82 %\n"
     ]
    }
   ],
   "source": [
    "# battery_size\n",
    "print(\"Range kapasitas bateri HP (mAh)\")\n",
    "print(\"min:\", phones[\"battery_size\"].min())\n",
    "print(phones.loc[phones[\"battery_size\"] == phones[\"battery_size\"].min()])\n",
    "print(\"max:\", phones[\"battery_size\"].max())\n",
    "print(phones.loc[phones[\"battery_size\"] == phones[\"battery_size\"].max()])\n",
    "print(\"Banyak data kosong:\", phones[\"battery_size\"].isnull().sum())\n",
    "print(\"Persentase data kosong:\", round((((phones[\"battery_size\"].isnull().sum())/(len(phones)))*100),2), \"%\")\n"
   ]
  },
  {
   "cell_type": "code",
   "execution_count": 15,
   "metadata": {},
   "outputs": [
    {
     "name": "stdout",
     "output_type": "stream",
     "text": [
      "Range tahun HP dibuat\n",
      "min: Jan 2013\n",
      "      Unnamed: 0 brand_name        model_name       os  popularity  \\\n",
      "1050        1050       Sony  Xperia Z (Black)  Android         505   \n",
      "\n",
      "      best_price  lowest_price  highest_price  sellers_amount  screen_size  \\\n",
      "1050      2070.0           NaN            NaN               1          5.0   \n",
      "\n",
      "      memory_size  battery_size release_date  \n",
      "1050         16.0        2330.0       1-2013  \n",
      "max: Feb 2021\n",
      "     Unnamed: 0 brand_name          model_name       os  popularity  \\\n",
      "103         103     realme  7 6/64GB Mist Blue  Android         570   \n",
      "\n",
      "     best_price  lowest_price  highest_price  sellers_amount  screen_size  \\\n",
      "103      6215.0        5990.0         6658.0               3          6.5   \n",
      "\n",
      "     memory_size  battery_size release_date  \n",
      "103         64.0        5000.0       2-2021  \n",
      "Banyak data kosong: 0\n",
      "Persentase data kosong: 0.0 %\n"
     ]
    }
   ],
   "source": [
    "# KAMUS LOKAL\n",
    "# releaseDate: dataframe\n",
    "\n",
    "# release_date\n",
    "releaseDate = pd.to_datetime(phones[\"release_date\"])\n",
    "print(\"Range tahun HP dibuat\")\n",
    "print(\"min:\", releaseDate.min().strftime(\"%b %Y\"))\n",
    "print(phones.loc[releaseDate == releaseDate.min()])\n",
    "print(\"max:\", releaseDate.max().strftime(\"%b %Y\"))\n",
    "print(phones.loc[releaseDate == releaseDate.max()])\n",
    "print(\"Banyak data kosong:\", releaseDate.isnull().sum())\n",
    "print(\"Persentase data kosong:\", round((((releaseDate.isnull().sum())/(len(phones)))*100),2), \"%\")\n"
   ]
  },
  {
   "cell_type": "code",
   "execution_count": 16,
   "metadata": {},
   "outputs": [
    {
     "name": "stdout",
     "output_type": "stream",
     "text": [
      "   Unnamed: 0 brand_name                                    model_name  \\\n",
      "0           0    ALCATEL          1 1/8GB Bluish Black (5033D-2JALUAA)   \n",
      "1           1    ALCATEL  1 5033D 1/16GB Volcano Black (5033D-2LALUAF)   \n",
      "2           2    ALCATEL  1 5033D 1/16GB Volcano Black (5033D-2LALUAF)   \n",
      "3           3    ALCATEL  1 5033D 1/16GB Volcano Black (5033D-2LALUAF)   \n",
      "4           4      Nokia                           1.3 1/16GB Charcoal   \n",
      "5           5      Honor                               10 6/64GB Black   \n",
      "6           6      Honor                           10 Lite 3/32GB Blue   \n",
      "7           7      Honor                          10 Lite 4/64GB Black   \n",
      "8           8      Honor                          10 lite 3/128GB Blue   \n",
      "9           9      Honor                          10 lite 3/64GB Black   \n",
      "\n",
      "        os  popularity  best_price  lowest_price  highest_price  \\\n",
      "0  Android         422      1690.0        1529.0         1819.0   \n",
      "1  Android         323      1803.0        1659.0         2489.0   \n",
      "2  Android         299      1803.0        1659.0         2489.0   \n",
      "3  Android         287      1803.0        1659.0         2489.0   \n",
      "4  Android        1047      1999.0           NaN            NaN   \n",
      "5  Android          71     10865.0       10631.0        11099.0   \n",
      "6  Android         424      3999.0           NaN            NaN   \n",
      "7  Android         134      4973.0        4733.0         5295.0   \n",
      "8  Android         477      5100.0        4990.0         5222.0   \n",
      "9  Android         215      4948.0        4646.0         5372.0   \n",
      "\n",
      "   sellers_amount  screen_size  memory_size  battery_size release_date  \n",
      "0              36         5.00          8.0        2000.0      10-2020  \n",
      "1              36         5.00         16.0        2000.0       9-2020  \n",
      "2              36         5.00         16.0        2000.0       9-2020  \n",
      "3              36         5.00         16.0        2000.0       9-2020  \n",
      "4              10         5.71         16.0        3000.0       4-2020  \n",
      "5               2         5.80         64.0        3400.0       6-2018  \n",
      "6               2         6.21         32.0        3400.0      12-2018  \n",
      "7               6         6.21         64.0        3400.0       1-2019  \n",
      "8               3         6.21        128.0        3400.0       1-2021  \n",
      "9               8         6.21         64.0        3400.0      12-2018  \n"
     ]
    }
   ],
   "source": [
    "# sampel data\n",
    "print(phones.head(10))"
   ]
  },
  {
   "cell_type": "code",
   "execution_count": 17,
   "metadata": {},
   "outputs": [
    {
     "name": "stdout",
     "output_type": "stream",
     "text": [
      "      Unnamed: 0 brand_name  \\\n",
      "600          600     HUAWEI   \n",
      "432          432    Samsung   \n",
      "543          543    Samsung   \n",
      "1156        1156      Apple   \n",
      "1150        1150      Apple   \n",
      "1157        1157      Apple   \n",
      "1151        1151      Apple   \n",
      "915          915  Microsoft   \n",
      "1135        1135      Apple   \n",
      "517          517    Samsung   \n",
      "\n",
      "                                             model_name       os  popularity  \\\n",
      "600        Mate Xs 8/512GB Interstellar blue (51095CSQ)  Android         740   \n",
      "432                          Galaxy Fold 12/256GB Black  Android         298   \n",
      "543   Galaxy Z Fold2 12/256GB Mystic Black (SM-F916B...  Android        1099   \n",
      "1156  iPhone 12 Pro Max 512GB Dual Sim Pacific Blue ...      iOS         872   \n",
      "1150  iPhone 12 Pro 512GB Dual Sim Pacific Blue (MGLM3)      iOS         724   \n",
      "1157       iPhone 12 Pro Max 512GB Pacific Blue (MGDL3)      iOS        1103   \n",
      "1151     iPhone 12 Pro 512GB Pacific Blue (MGMX3/MGM43)      iOS         873   \n",
      "915                   Surface Duo 6GB/256GB (TGM-00001)  Android         501   \n",
      "1135    iPhone 11 Pro Max 512GB Dual Sim Silver (MWF62)      iOS         379   \n",
      "517   Galaxy S21 Ultra 16/512GB Phantom Black (SM-G9...  Android        1136   \n",
      "\n",
      "      best_price  lowest_price  highest_price  sellers_amount  screen_size  \\\n",
      "600      56082.0       49999.0        69999.0               6          NaN   \n",
      "432      55338.0       45799.0        59999.0               4          7.3   \n",
      "543      51460.0       44809.0        59999.0              33          7.6   \n",
      "1156     49242.0       45120.0        64999.0              33          6.7   \n",
      "1150     46503.0       44199.0        50760.0              29          6.1   \n",
      "1157     46325.0       43396.0        57999.0              92          6.7   \n",
      "1151     44716.0       41996.0        51999.0              82          6.1   \n",
      "915      44232.0       42999.0        46879.0               5          8.1   \n",
      "1135     42968.0       37639.0        46399.0              34          6.5   \n",
      "517      42649.0       36899.0        43999.0              26          6.8   \n",
      "\n",
      "      memory_size  battery_size release_date  \n",
      "600         512.0        4500.0       7-2020  \n",
      "432         256.0        4380.0      11-2019  \n",
      "543         256.0        4500.0       8-2020  \n",
      "1156        512.0        3687.0      11-2020  \n",
      "1150        512.0        2815.0      10-2020  \n",
      "1157        512.0        3687.0      10-2020  \n",
      "1151        512.0        2815.0      10-2020  \n",
      "915         256.0        3577.0       1-2021  \n",
      "1135        512.0        3969.0      10-2019  \n",
      "517         512.0        5000.0       1-2021  \n"
     ]
    }
   ],
   "source": [
    "# sorting best_price ascending\n",
    "bestPriceAscending = phones.sort_values([\"best_price\"], ascending=[0])\n",
    "# sampel data\n",
    "print(bestPriceAscending[0:10])\n"
   ]
  },
  {
   "cell_type": "code",
   "execution_count": 18,
   "metadata": {},
   "outputs": [
    {
     "name": "stdout",
     "output_type": "stream",
     "text": [
      "      Unnamed: 0 brand_name            model_name   os  popularity  \\\n",
      "141          141      Astro        A144 Black/Red  NaN         519   \n",
      "1093        1093       Nomi           i144m Black  NaN         492   \n",
      "1094        1094       Nomi            i144m Blue  NaN         844   \n",
      "1091        1091       Nomi             i144c Red  NaN         409   \n",
      "1092        1092       Nomi             i144c Red  NaN         398   \n",
      "904          904      Jinga    Simple F200n Black  NaN         292   \n",
      "931          931      Viaan            V182 Black  NaN          19   \n",
      "1090        1090       Nomi           i144c Black  NaN         486   \n",
      "905          905      Jinga    Simple F200n Black  NaN         331   \n",
      "150          150     Rezone  A170 Point Dark Blue  NaN         156   \n",
      "\n",
      "      best_price  lowest_price  highest_price  sellers_amount  screen_size  \\\n",
      "141        214.0         199.0          229.0               2         1.77   \n",
      "1093       220.0         209.0          229.0               4         1.44   \n",
      "1094       235.0         198.0          314.0              24         1.44   \n",
      "1091       241.0         218.0          291.0              18         1.44   \n",
      "1092       241.0         218.0          291.0              18         1.44   \n",
      "904        249.0           NaN            NaN               1         1.77   \n",
      "931        249.0         239.0          259.0               2         1.80   \n",
      "1090       249.0         219.0          317.0              14         1.44   \n",
      "905        249.0           NaN            NaN               1         1.77   \n",
      "150        252.0         220.0          333.0              20         1.77   \n",
      "\n",
      "      memory_size  battery_size release_date  \n",
      "141         0.032         600.0       9-2019  \n",
      "1093          NaN         600.0       9-2020  \n",
      "1094          NaN         600.0      12-2019  \n",
      "1091          NaN         600.0       9-2020  \n",
      "1092          NaN         600.0       9-2020  \n",
      "904         0.032         600.0       2-2020  \n",
      "931         0.032         600.0       9-2017  \n",
      "1090          NaN         600.0       9-2020  \n",
      "905         0.032         600.0       2-2020  \n",
      "150           NaN         600.0       4-2019  \n"
     ]
    }
   ],
   "source": [
    "# sorting best_price descending\n",
    "bestPriceDescending = phones.sort_values([\"best_price\"], ascending=[1])\n",
    "# sampel data\n",
    "print(bestPriceDescending[0:10])"
   ]
  },
  {
   "cell_type": "code",
   "execution_count": 19,
   "metadata": {},
   "outputs": [
    {
     "data": {
      "text/html": [
       "<div>\n",
       "<style scoped>\n",
       "    .dataframe tbody tr th:only-of-type {\n",
       "        vertical-align: middle;\n",
       "    }\n",
       "\n",
       "    .dataframe tbody tr th {\n",
       "        vertical-align: top;\n",
       "    }\n",
       "\n",
       "    .dataframe thead th {\n",
       "        text-align: right;\n",
       "    }\n",
       "</style>\n",
       "<table border=\"1\" class=\"dataframe\">\n",
       "  <thead>\n",
       "    <tr style=\"text-align: right;\">\n",
       "      <th></th>\n",
       "      <th>Unnamed: 0</th>\n",
       "      <th>popularity</th>\n",
       "      <th>best_price</th>\n",
       "      <th>lowest_price</th>\n",
       "      <th>highest_price</th>\n",
       "      <th>sellers_amount</th>\n",
       "      <th>screen_size</th>\n",
       "      <th>memory_size</th>\n",
       "      <th>battery_size</th>\n",
       "    </tr>\n",
       "  </thead>\n",
       "  <tbody>\n",
       "    <tr>\n",
       "      <th>count</th>\n",
       "      <td>1224.000000</td>\n",
       "      <td>1224.000000</td>\n",
       "      <td>1224.000000</td>\n",
       "      <td>964.000000</td>\n",
       "      <td>964.000000</td>\n",
       "      <td>1224.000000</td>\n",
       "      <td>1222.000000</td>\n",
       "      <td>1112.000000</td>\n",
       "      <td>1214.000000</td>\n",
       "    </tr>\n",
       "    <tr>\n",
       "      <th>mean</th>\n",
       "      <td>611.500000</td>\n",
       "      <td>612.500000</td>\n",
       "      <td>7941.206699</td>\n",
       "      <td>7716.018672</td>\n",
       "      <td>9883.410788</td>\n",
       "      <td>16.743464</td>\n",
       "      <td>5.394378</td>\n",
       "      <td>95.700059</td>\n",
       "      <td>3608.201812</td>\n",
       "    </tr>\n",
       "    <tr>\n",
       "      <th>std</th>\n",
       "      <td>353.482673</td>\n",
       "      <td>353.482673</td>\n",
       "      <td>8891.836260</td>\n",
       "      <td>8560.959059</td>\n",
       "      <td>11514.936818</td>\n",
       "      <td>20.597006</td>\n",
       "      <td>1.476991</td>\n",
       "      <td>111.922576</td>\n",
       "      <td>1668.268774</td>\n",
       "    </tr>\n",
       "    <tr>\n",
       "      <th>min</th>\n",
       "      <td>0.000000</td>\n",
       "      <td>1.000000</td>\n",
       "      <td>214.000000</td>\n",
       "      <td>198.000000</td>\n",
       "      <td>229.000000</td>\n",
       "      <td>1.000000</td>\n",
       "      <td>1.400000</td>\n",
       "      <td>0.003200</td>\n",
       "      <td>460.000000</td>\n",
       "    </tr>\n",
       "    <tr>\n",
       "      <th>25%</th>\n",
       "      <td>305.750000</td>\n",
       "      <td>306.750000</td>\n",
       "      <td>2599.750000</td>\n",
       "      <td>2399.000000</td>\n",
       "      <td>2887.000000</td>\n",
       "      <td>2.000000</td>\n",
       "      <td>5.162500</td>\n",
       "      <td>32.000000</td>\n",
       "      <td>2900.000000</td>\n",
       "    </tr>\n",
       "    <tr>\n",
       "      <th>50%</th>\n",
       "      <td>611.500000</td>\n",
       "      <td>612.500000</td>\n",
       "      <td>4728.000000</td>\n",
       "      <td>4574.000000</td>\n",
       "      <td>5325.500000</td>\n",
       "      <td>8.000000</td>\n",
       "      <td>6.000000</td>\n",
       "      <td>64.000000</td>\n",
       "      <td>3687.000000</td>\n",
       "    </tr>\n",
       "    <tr>\n",
       "      <th>75%</th>\n",
       "      <td>917.250000</td>\n",
       "      <td>918.250000</td>\n",
       "      <td>9323.000000</td>\n",
       "      <td>9262.250000</td>\n",
       "      <td>12673.750000</td>\n",
       "      <td>26.000000</td>\n",
       "      <td>6.400000</td>\n",
       "      <td>128.000000</td>\n",
       "      <td>4400.000000</td>\n",
       "    </tr>\n",
       "    <tr>\n",
       "      <th>max</th>\n",
       "      <td>1223.000000</td>\n",
       "      <td>1224.000000</td>\n",
       "      <td>56082.000000</td>\n",
       "      <td>49999.000000</td>\n",
       "      <td>69999.000000</td>\n",
       "      <td>125.000000</td>\n",
       "      <td>8.100000</td>\n",
       "      <td>1000.000000</td>\n",
       "      <td>18800.000000</td>\n",
       "    </tr>\n",
       "  </tbody>\n",
       "</table>\n",
       "</div>"
      ],
      "text/plain": [
       "        Unnamed: 0   popularity    best_price  lowest_price  highest_price  \\\n",
       "count  1224.000000  1224.000000   1224.000000    964.000000     964.000000   \n",
       "mean    611.500000   612.500000   7941.206699   7716.018672    9883.410788   \n",
       "std     353.482673   353.482673   8891.836260   8560.959059   11514.936818   \n",
       "min       0.000000     1.000000    214.000000    198.000000     229.000000   \n",
       "25%     305.750000   306.750000   2599.750000   2399.000000    2887.000000   \n",
       "50%     611.500000   612.500000   4728.000000   4574.000000    5325.500000   \n",
       "75%     917.250000   918.250000   9323.000000   9262.250000   12673.750000   \n",
       "max    1223.000000  1224.000000  56082.000000  49999.000000   69999.000000   \n",
       "\n",
       "       sellers_amount  screen_size  memory_size  battery_size  \n",
       "count     1224.000000  1222.000000  1112.000000   1214.000000  \n",
       "mean        16.743464     5.394378    95.700059   3608.201812  \n",
       "std         20.597006     1.476991   111.922576   1668.268774  \n",
       "min          1.000000     1.400000     0.003200    460.000000  \n",
       "25%          2.000000     5.162500    32.000000   2900.000000  \n",
       "50%          8.000000     6.000000    64.000000   3687.000000  \n",
       "75%         26.000000     6.400000   128.000000   4400.000000  \n",
       "max        125.000000     8.100000  1000.000000  18800.000000  "
      ]
     },
     "execution_count": 19,
     "metadata": {},
     "output_type": "execute_result"
    }
   ],
   "source": [
    "phones.describe()"
   ]
  },
  {
   "cell_type": "code",
   "execution_count": 20,
   "metadata": {},
   "outputs": [
    {
     "name": "stdout",
     "output_type": "stream",
     "text": [
      "Mengecek apakah ada data kosong (null) dalam dataset\n",
      "Unnamed: 0          0\n",
      "brand_name          0\n",
      "model_name          0\n",
      "os                197\n",
      "popularity          0\n",
      "best_price          0\n",
      "lowest_price      260\n",
      "highest_price     260\n",
      "sellers_amount      0\n",
      "screen_size         2\n",
      "memory_size       112\n",
      "battery_size       10\n",
      "release_date        0\n",
      "dtype: int64\n"
     ]
    }
   ],
   "source": [
    "# Data cleansing\n",
    "# Mengecek null\n",
    "print(\"Mengecek apakah ada data kosong (null) dalam dataset\")\n",
    "print(phones.isnull().sum())"
   ]
  },
  {
   "cell_type": "code",
   "execution_count": 21,
   "metadata": {},
   "outputs": [
    {
     "name": "stdout",
     "output_type": "stream",
     "text": [
      "Mengecek apakah ada data dibawah 0 dalam atribut bertipe kuantitatif\n",
      "Unnamed: 0          int64\n",
      "brand_name         object\n",
      "model_name         object\n",
      "os                 object\n",
      "popularity          int64\n",
      "best_price        float64\n",
      "lowest_price      float64\n",
      "highest_price     float64\n",
      "sellers_amount      int64\n",
      "screen_size       float64\n",
      "memory_size       float64\n",
      "battery_size      float64\n",
      "release_date       object\n",
      "dtype: object \n",
      "\n",
      "Atribut Unnamed: 0 tidak mempunyai data negatif\n",
      "Atribut popularity tidak mempunyai data negatif\n",
      "Atribut best_price tidak mempunyai data negatif\n",
      "Atribut lowest_price tidak mempunyai data negatif\n",
      "Atribut highest_price tidak mempunyai data negatif\n",
      "Atribut sellers_amount tidak mempunyai data negatif\n",
      "Atribut screen_size tidak mempunyai data negatif\n",
      "Atribut memory_size tidak mempunyai data negatif\n",
      "Atribut battery_size tidak mempunyai data negatif\n"
     ]
    }
   ],
   "source": [
    "# mengecek data negatif\n",
    "print(\"Mengecek apakah ada data dibawah 0 dalam atribut bertipe kuantitatif\")\n",
    "print(phones.dtypes, \"\\n\")\n",
    "for attribute in phones.columns :\n",
    "    # print(attribute)\n",
    "    if phones[attribute].dtypes == \"int64\" or phones[attribute].dtypes == \"float64\" :\n",
    "        if len(phones.loc[phones[attribute] < 0]) > 0 :\n",
    "            print(f\"Atribut {attribute}  mempunyai data negatif sebanyak {phones.loc[phones[attribute] < 0].value_counts()}\")\n",
    "        else : \n",
    "            print(f\"Atribut {attribute} tidak mempunyai data negatif\")"
   ]
  },
  {
   "cell_type": "code",
   "execution_count": 22,
   "metadata": {},
   "outputs": [
    {
     "name": "stdout",
     "output_type": "stream",
     "text": [
      "Persentase data null\n",
      "Persentase data null dalam Unnamed: 0 adalah 0.0 %\n",
      "Persentase data null dalam brand_name adalah 0.0 %\n",
      "Persentase data null dalam model_name adalah 0.0 %\n",
      "Persentase data null dalam os adalah 16.09 %\n",
      "Persentase data null dalam popularity adalah 0.0 %\n",
      "Persentase data null dalam best_price adalah 0.0 %\n",
      "Persentase data null dalam lowest_price adalah 21.24 %\n",
      "Persentase data null dalam highest_price adalah 21.24 %\n",
      "Persentase data null dalam sellers_amount adalah 0.0 %\n",
      "Persentase data null dalam screen_size adalah 0.16 %\n",
      "Persentase data null dalam memory_size adalah 9.15 %\n",
      "Persentase data null dalam battery_size adalah 0.82 %\n",
      "Persentase data null dalam release_date adalah 0.0 %\n"
     ]
    }
   ],
   "source": [
    "# persentase data null\n",
    "print(\"Persentase data null\")\n",
    "for attribute in phones.columns :\n",
    "    print(\"Persentase data null dalam\", attribute, \"adalah\", round(phones[attribute].isnull().sum() * 100 / len(phones),2), \"%\")"
   ]
  },
  {
   "cell_type": "code",
   "execution_count": 23,
   "metadata": {},
   "outputs": [
    {
     "name": "stdout",
     "output_type": "stream",
     "text": [
      "      Unnamed: 0 brand_name                                    model_name  \\\n",
      "0              0    ALCATEL          1 1/8GB Bluish Black (5033D-2JALUAA)   \n",
      "1              1    ALCATEL  1 5033D 1/16GB Volcano Black (5033D-2LALUAF)   \n",
      "2              2    ALCATEL  1 5033D 1/16GB Volcano Black (5033D-2LALUAF)   \n",
      "3              3    ALCATEL  1 5033D 1/16GB Volcano Black (5033D-2LALUAF)   \n",
      "5              5      Honor                               10 6/64GB Black   \n",
      "...          ...        ...                                           ...   \n",
      "1218        1218      Apple        iPhone XS Max 512GB Space Gray (MT622)   \n",
      "1219        1219      Apple               iPhone XS Max 64GB Gold (MT522)   \n",
      "1220        1220      Apple      iPhone XS Max Dual Sim 64GB Gold (MT732)   \n",
      "1221        1221     HUAWEI              nova 5T 6/128GB Black (51094MEU)   \n",
      "1222        1222        ZTE              nubia Red Magic 5G 8/128GB Black   \n",
      "\n",
      "           os  popularity  best_price  lowest_price  highest_price  \\\n",
      "0     Android         422      1690.0        1529.0         1819.0   \n",
      "1     Android         323      1803.0        1659.0         2489.0   \n",
      "2     Android         299      1803.0        1659.0         2489.0   \n",
      "3     Android         287      1803.0        1659.0         2489.0   \n",
      "5     Android          71     10865.0       10631.0        11099.0   \n",
      "...       ...         ...         ...           ...            ...   \n",
      "1218      iOS         842     27190.0       21150.0        30200.0   \n",
      "1219      iOS        1101     22685.0       16018.0        27900.0   \n",
      "1220      iOS         530     24600.0       21939.0        33720.0   \n",
      "1221  Android        1174      8804.0        7999.0         9999.0   \n",
      "1222  Android         752     18755.0       18500.0        19010.0   \n",
      "\n",
      "      sellers_amount  screen_size  memory_size  battery_size release_date  \n",
      "0                 36         5.00          8.0        2000.0      10-2020  \n",
      "1                 36         5.00         16.0        2000.0       9-2020  \n",
      "2                 36         5.00         16.0        2000.0       9-2020  \n",
      "3                 36         5.00         16.0        2000.0       9-2020  \n",
      "5                  2         5.80         64.0        3400.0       6-2018  \n",
      "...              ...          ...          ...           ...          ...  \n",
      "1218              47         6.50        512.0        3174.0       9-2018  \n",
      "1219              61         6.50         64.0        3174.0       9-2018  \n",
      "1220              28         6.50         64.0        3174.0       9-2018  \n",
      "1221              18         6.26        128.0        3750.0      11-2019  \n",
      "1222               2         6.65        128.0        4500.0      10-2020  \n",
      "\n",
      "[780 rows x 13 columns]\n"
     ]
    }
   ],
   "source": [
    "# membersihkan \n",
    "phones = phones.dropna(subset=[\"os\", \"lowest_price\", \"highest_price\", \"battery_size\", \"screen_size\", \"memory_size\"])\n",
    "print(phones)"
   ]
  }
 ],
 "metadata": {
  "kernelspec": {
   "display_name": "Python 3.11.0 64-bit",
   "language": "python",
   "name": "python3"
  },
  "language_info": {
   "codemirror_mode": {
    "name": "ipython",
    "version": 3
   },
   "file_extension": ".py",
   "mimetype": "text/x-python",
   "name": "python",
   "nbconvert_exporter": "python",
   "pygments_lexer": "ipython3",
   "version": "3.11.0"
  },
  "orig_nbformat": 4,
  "vscode": {
   "interpreter": {
    "hash": "4d533db97f1a493f1c0e30155616442f08e4c1e25c1b2ec566805f34b146e544"
   }
  }
 },
 "nbformat": 4,
 "nbformat_minor": 2
}
