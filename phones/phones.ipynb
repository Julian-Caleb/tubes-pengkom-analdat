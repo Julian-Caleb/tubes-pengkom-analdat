{
 "cells": [
  {
   "cell_type": "code",
   "execution_count": 2,
   "metadata": {},
   "outputs": [],
   "source": [
    "# Import dulu\n",
    "import pandas as pd\n",
    "import matplotlib as plt\n",
    "\n",
    "# Terus di read\n",
    "phones = pd.read_csv(\"phones_data.csv\")"
   ]
  },
  {
   "cell_type": "code",
   "execution_count": 3,
   "metadata": {},
   "outputs": [
    {
     "name": "stdout",
     "output_type": "stream",
     "text": [
      ".csv\n"
     ]
    }
   ],
   "source": [
    "# Format dataset \n",
    "import os\n",
    "print(os.path.splitext(\"phones_data.csv\")[1])"
   ]
  },
  {
   "cell_type": "code",
   "execution_count": 4,
   "metadata": {},
   "outputs": [
    {
     "name": "stdout",
     "output_type": "stream",
     "text": [
      "1224 baris 13 kolom\n"
     ]
    }
   ],
   "source": [
    "# Dimensi dataset\n",
    "print(f\"{len(phones)} baris {len(phones.columns)} kolom\")"
   ]
  },
  {
   "cell_type": "code",
   "execution_count": 5,
   "metadata": {},
   "outputs": [
    {
     "name": "stdout",
     "output_type": "stream",
     "text": [
      "115924 bytes\n"
     ]
    }
   ],
   "source": [
    "# Ukuran file dataset\n",
    "import os\n",
    "print(os.path.getsize(\"phones_data.csv\"), \"bytes\")"
   ]
  },
  {
   "cell_type": "code",
   "execution_count": 22,
   "metadata": {},
   "outputs": [
    {
     "name": "stdout",
     "output_type": "stream",
     "text": [
      "Atribut yang terdapat di dalam dataset antara lain: \n",
      "1. brand_name\n",
      "2. model_name\n",
      "3. os\n",
      "4. popularity\n",
      "5. best_price\n",
      "6. lowest_price\n",
      "7. highest_price\n",
      "8. sellers_amount\n",
      "9. screen_size\n",
      "10. memory_size\n",
      "11. battery_size\n",
      "12. release_date\n"
     ]
    }
   ],
   "source": [
    "# Atribut dalam dataset\n",
    "print(\"Atribut yang terdapat di dalam dataset antara lain: \")\n",
    "for i in range (1, len(phones.columns)) :\n",
    "   print(f\"{i}. {phones.columns[i]}\")"
   ]
  },
  {
   "cell_type": "code",
   "execution_count": 31,
   "metadata": {},
   "outputs": [
    {
     "name": "stdout",
     "output_type": "stream",
     "text": [
      "Operating system hp\n",
      "Android         915\n",
      "iOS             103\n",
      "OxygenOS          3\n",
      "WindowsPhone      3\n",
      "EMUI              2\n",
      "KAIOS             1\n",
      "Name: os, dtype: int64\n"
     ]
    }
   ],
   "source": [
    "# operating system\n",
    "print(\"Operating system hp\")\n",
    "print(phones[\"os\"].value_counts())"
   ]
  },
  {
   "cell_type": "code",
   "execution_count": 30,
   "metadata": {},
   "outputs": [
    {
     "name": "stdout",
     "output_type": "stream",
     "text": [
      "Popularitas HP\n",
      "      Unnamed: 0    brand_name  \\\n",
      "859          859        S-TELL   \n",
      "138          138           AGM   \n",
      "988          988  Sigma mobile   \n",
      "549          549       myPhone   \n",
      "935          935         Viaan   \n",
      "...          ...           ...   \n",
      "449          449       Samsung   \n",
      "1124        1124         Apple   \n",
      "741          741        Xiaomi   \n",
      "734          734        Google   \n",
      "1147        1147         Apple   \n",
      "\n",
      "                                          model_name       os  popularity  \\\n",
      "859                                       S1-07 Gold      NaN           1   \n",
      "138                                A10 6/128GB Black  Android           2   \n",
      "988                        X-treme PQ24 Black/Orange  Android           3   \n",
      "549                              Hammer Energy Black  Android           4   \n",
      "935                                     V241 (Black)      NaN           5   \n",
      "...                                              ...      ...         ...   \n",
      "449           Galaxy M51 6/128GB Black (SM-M515FZKD)  Android        1220   \n",
      "1124                    iPhone 11 64GB Black (MWLT2)      iOS        1221   \n",
      "741                  Poco X3 NFC 6/128GB Cobalt Blue  Android        1222   \n",
      "734                      Pixel 4a 6/128GB Just Black  Android        1223   \n",
      "1147  iPhone 12 Pro 128GB Pacific Blue (MGMN3/MGLR3)      iOS        1224   \n",
      "\n",
      "      best_price  lowest_price  highest_price  sellers_amount  screen_size  \\\n",
      "859        299.0           NaN            NaN               1         1.80   \n",
      "138       5628.0        5297.0         6584.0              11         5.70   \n",
      "988       2999.0           NaN            NaN               1         5.00   \n",
      "549       5600.0           NaN            NaN               1         5.00   \n",
      "935        326.0         222.0          373.0              14         2.40   \n",
      "...          ...           ...            ...             ...          ...   \n",
      "449       9620.0        8555.0        10394.0              55         6.70   \n",
      "1124     20889.0       18200.0        26499.0              93         6.10   \n",
      "741       7152.0        6836.0         7999.0              59         6.67   \n",
      "734      12106.0       11740.0        12999.0              37         5.81   \n",
      "1147     33992.0       31849.0        42999.0             101         6.10   \n",
      "\n",
      "      memory_size  battery_size release_date  \n",
      "859           NaN        1000.0       6-2017  \n",
      "138       128.000        4400.0      10-2020  \n",
      "988         8.000        5000.0       1-2017  \n",
      "549        16.000        5000.0       1-2017  \n",
      "935         0.032        1000.0       9-2016  \n",
      "...           ...           ...          ...  \n",
      "449       128.000        7000.0       9-2020  \n",
      "1124       64.000        3110.0       9-2019  \n",
      "741       128.000        5160.0       9-2020  \n",
      "734       128.000        3140.0       8-2020  \n",
      "1147      128.000        2815.0      10-2020  \n",
      "\n",
      "[1224 rows x 13 columns]\n"
     ]
    }
   ],
   "source": [
    "# popularity\n",
    "print(\"Popularitas HP\")\n",
    "print(phones.sort_values([\"popularity\"], ascending=[1]))\n"
   ]
  },
  {
   "cell_type": "code",
   "execution_count": 26,
   "metadata": {},
   "outputs": [
    {
     "name": "stdout",
     "output_type": "stream",
     "text": [
      "Jumlah HP berdasarkan harga terbaik penjualan di Ukraina (UAH)\n",
      "2999.0     8\n",
      "2299.0     5\n",
      "4099.0     5\n",
      "252.0      5\n",
      "3490.0     4\n",
      "          ..\n",
      "12169.0    1\n",
      "21175.0    1\n",
      "21222.0    1\n",
      "22670.0    1\n",
      "907.0      1\n",
      "Name: best_price, Length: 970, dtype: int64\n",
      "\n",
      "Range harga terbaik penjualan\n",
      "min 214.0\n",
      "max: 56082.0\n"
     ]
    }
   ],
   "source": [
    "# best_price\n",
    "print(\"Jumlah HP berdasarkan harga terbaik penjualan di Ukraina (UAH)\")\n",
    "print(phones[\"best_price\"].value_counts())\n",
    "\n",
    "print(\"\\nRange harga terbaik penjualan\")\n",
    "print(\"min\", phones[\"best_price\"].min())\n",
    "print(\"max:\", phones[\"best_price\"].max())"
   ]
  },
  {
   "cell_type": "code",
   "execution_count": 20,
   "metadata": {},
   "outputs": [
    {
     "name": "stdout",
     "output_type": "stream",
     "text": [
      "Jumlah HP berdasarkan harga terendah penjualan di Ukraina (UAH)\n",
      "4999.0     9\n",
      "3549.0     8\n",
      "499.0      8\n",
      "2199.0     6\n",
      "599.0      6\n",
      "          ..\n",
      "28948.0    1\n",
      "18920.0    1\n",
      "20230.0    1\n",
      "20290.0    1\n",
      "785.0      1\n",
      "Name: lowest_price, Length: 666, dtype: int64\n",
      "\n",
      "Range harga terendah penjualan\n",
      "min: 198.0\n",
      "max: 49999.0\n"
     ]
    }
   ],
   "source": [
    "# lowest_price\n",
    "print(\"Jumlah HP berdasarkan harga terendah penjualan di Ukraina (UAH)\")\n",
    "print(phones[\"lowest_price\"].value_counts())\n",
    "print(\"\\nRange harga terendah penjualan\")\n",
    "print(\"min:\", phones[\"lowest_price\"].min())\n",
    "print(\"max:\", phones[\"lowest_price\"].max())"
   ]
  },
  {
   "cell_type": "code",
   "execution_count": 19,
   "metadata": {},
   "outputs": [
    {
     "name": "stdout",
     "output_type": "stream",
     "text": [
      "Jumlah HP berdasarkan harga tertinggi penjualan di Ukraina (UAH)\n",
      "3299.0     8\n",
      "8999.0     7\n",
      "3999.0     7\n",
      "7999.0     6\n",
      "3399.0     6\n",
      "          ..\n",
      "16476.0    1\n",
      "15469.0    1\n",
      "34640.0    1\n",
      "34505.0    1\n",
      "944.0      1\n",
      "Name: highest_price, Length: 648, dtype: int64\n",
      "\n",
      "Range harga tertinggi penjualan\n",
      "min: 229.0\n",
      "max: 69999.0\n"
     ]
    }
   ],
   "source": [
    "# highest_price\n",
    "print(\"Jumlah HP berdasarkan harga tertinggi penjualan di Ukraina (UAH)\")\n",
    "print(phones[\"highest_price\"].value_counts())\n",
    "print(\"\\nRange harga tertinggi penjualan\")\n",
    "print(\"min:\", phones[\"highest_price\"].min())\n",
    "print(\"max:\", phones[\"highest_price\"].max())"
   ]
  },
  {
   "cell_type": "code",
   "execution_count": 7,
   "metadata": {},
   "outputs": [
    {
     "name": "stdout",
     "output_type": "stream",
     "text": [
      "Jumlah HP berdasarkan banyak penjual\n",
      "1     235\n",
      "2     119\n",
      "3      72\n",
      "4      57\n",
      "5      45\n",
      "     ... \n",
      "99      1\n",
      "83      1\n",
      "69      1\n",
      "59      1\n",
      "68      1\n",
      "Name: sellers_amount, Length: 94, dtype: int64\n",
      "\n",
      "Range banyak penjual\n",
      "min: 1\n",
      "max: 125\n"
     ]
    }
   ],
   "source": [
    "# sellers_amount\n",
    "print(\"Jumlah HP berdasarkan banyak penjual\")\n",
    "print(phones[\"sellers_amount\"].value_counts())\n",
    "print(\"\\nRange banyak penjual\")\n",
    "print(\"min:\", phones[\"sellers_amount\"].min())\n",
    "print(\"max:\", phones[\"sellers_amount\"].max())"
   ]
  },
  {
   "cell_type": "code",
   "execution_count": 8,
   "metadata": {},
   "outputs": [
    {
     "name": "stdout",
     "output_type": "stream",
     "text": [
      "Jumlah HP berdasarkan ukuran layar (inch)\n",
      "5.50    103\n",
      "2.40     81\n",
      "6.50     78\n",
      "6.30     60\n",
      "5.00     58\n",
      "       ... \n",
      "2.30      1\n",
      "5.81      1\n",
      "6.24      1\n",
      "7.60      1\n",
      "3.50      1\n",
      "Name: screen_size, Length: 82, dtype: int64\n",
      "\n",
      "Range ukuran hp dibuat\n",
      "min: 1.4\n",
      "max: 8.1\n"
     ]
    }
   ],
   "source": [
    "# screen_size\n",
    "print(\"Jumlah HP berdasarkan ukuran layar (inch)\")\n",
    "print(phones[\"screen_size\"].value_counts())\n",
    "print(\"\\nRange ukuran hp dibuat\")\n",
    "print(\"min:\", phones[\"screen_size\"].min())\n",
    "print(\"max:\", phones[\"screen_size\"].max())"
   ]
  },
  {
   "cell_type": "code",
   "execution_count": 9,
   "metadata": {},
   "outputs": [
    {
     "name": "stdout",
     "output_type": "stream",
     "text": [
      "Jumlah HP berdasarkan ukuran memori HP dalam GB\n",
      "64.0000      295\n",
      "128.0000     285\n",
      "32.0000      179\n",
      "16.0000      122\n",
      "256.0000      85\n",
      "0.0320        62\n",
      "512.0000      36\n",
      "8.0000        19\n",
      "4.0000         8\n",
      "0.0040         6\n",
      "0.0160         4\n",
      "0.0640         4\n",
      "1000.0000      3\n",
      "0.0032         3\n",
      "0.1280         1\n",
      "Name: memory_size, dtype: int64\n",
      "\n",
      "Range ukuran hp dibuat\n",
      "min: 0.0032\n",
      "max: 1000.0\n"
     ]
    }
   ],
   "source": [
    "# memory_size\n",
    "print(\"Jumlah HP berdasarkan ukuran memori HP dalam GB\")\n",
    "print(phones[\"memory_size\"].value_counts())\n",
    "print(\"\\nRange ukuran hp dibuat\")\n",
    "print(\"min:\", phones[\"memory_size\"].min())\n",
    "print(\"max:\", phones[\"memory_size\"].max())"
   ]
  },
  {
   "cell_type": "code",
   "execution_count": 10,
   "metadata": {},
   "outputs": [
    {
     "name": "stdout",
     "output_type": "stream",
     "text": [
      "Jumlah HP berdasarkan ukuran bateri dalam mAh\n",
      "4000.0     158\n",
      "5000.0     109\n",
      "3000.0      87\n",
      "4500.0      54\n",
      "800.0       40\n",
      "          ... \n",
      "3520.0       1\n",
      "6200.0       1\n",
      "2400.0       1\n",
      "10300.0      1\n",
      "18800.0      1\n",
      "Name: battery_size, Length: 151, dtype: int64\n",
      "\n",
      "Range ukuran bateri HP\n",
      "min: 460.0\n",
      "max: 18800.0\n"
     ]
    }
   ],
   "source": [
    "# battery_size\n",
    "print(\"Jumlah HP berdasarkan ukuran bateri dalam mAh\")\n",
    "print(phones[\"battery_size\"].value_counts())\n",
    "print(\"\\nRange ukuran bateri HP\")\n",
    "print(\"min:\", phones[\"battery_size\"].min())\n",
    "print(\"max:\", phones[\"battery_size\"].max())"
   ]
  },
  {
   "cell_type": "code",
   "execution_count": 11,
   "metadata": {},
   "outputs": [
    {
     "name": "stdout",
     "output_type": "stream",
     "text": [
      "Jumlah HP berdasarkan tahun dibuat\n",
      "10-2020    79\n",
      "9-2020     48\n",
      "8-2020     46\n",
      "7-2020     43\n",
      "11-2019    42\n",
      "           ..\n",
      "1-2015      1\n",
      "1-2013      1\n",
      "12-2014     1\n",
      "2-2021      1\n",
      "4-2014      1\n",
      "Name: release_date, Length: 73, dtype: int64\n",
      "\n",
      "Range tahun HP dibuat\n",
      "min: 1-2013\n",
      "max: 9-2020\n"
     ]
    }
   ],
   "source": [
    "# release_date\n",
    "print(\"Jumlah HP berdasarkan tahun dibuat\")\n",
    "print(phones[\"release_date\"].value_counts())\n",
    "print(\"\\nRange tahun HP dibuat\")\n",
    "print(\"min:\", phones[\"release_date\"].min())\n",
    "print(\"max:\", phones[\"release_date\"].max())\n"
   ]
  },
  {
   "cell_type": "code",
   "execution_count": 42,
   "metadata": {},
   "outputs": [
    {
     "name": "stdout",
     "output_type": "stream",
     "text": [
      "   Unnamed: 0 brand_name                                    model_name  \\\n",
      "0           0    ALCATEL          1 1/8GB Bluish Black (5033D-2JALUAA)   \n",
      "1           1    ALCATEL  1 5033D 1/16GB Volcano Black (5033D-2LALUAF)   \n",
      "2           2    ALCATEL  1 5033D 1/16GB Volcano Black (5033D-2LALUAF)   \n",
      "3           3    ALCATEL  1 5033D 1/16GB Volcano Black (5033D-2LALUAF)   \n",
      "4           4      Nokia                           1.3 1/16GB Charcoal   \n",
      "5           5      Honor                               10 6/64GB Black   \n",
      "6           6      Honor                           10 Lite 3/32GB Blue   \n",
      "7           7      Honor                          10 Lite 4/64GB Black   \n",
      "8           8      Honor                          10 lite 3/128GB Blue   \n",
      "9           9      Honor                          10 lite 3/64GB Black   \n",
      "\n",
      "        os  popularity  best_price  lowest_price  highest_price  \\\n",
      "0  Android         422      1690.0        1529.0         1819.0   \n",
      "1  Android         323      1803.0        1659.0         2489.0   \n",
      "2  Android         299      1803.0        1659.0         2489.0   \n",
      "3  Android         287      1803.0        1659.0         2489.0   \n",
      "4  Android        1047      1999.0           NaN            NaN   \n",
      "5  Android          71     10865.0       10631.0        11099.0   \n",
      "6  Android         424      3999.0           NaN            NaN   \n",
      "7  Android         134      4973.0        4733.0         5295.0   \n",
      "8  Android         477      5100.0        4990.0         5222.0   \n",
      "9  Android         215      4948.0        4646.0         5372.0   \n",
      "\n",
      "   sellers_amount  screen_size  memory_size  battery_size release_date  \n",
      "0              36         5.00          8.0        2000.0      10-2020  \n",
      "1              36         5.00         16.0        2000.0       9-2020  \n",
      "2              36         5.00         16.0        2000.0       9-2020  \n",
      "3              36         5.00         16.0        2000.0       9-2020  \n",
      "4              10         5.71         16.0        3000.0       4-2020  \n",
      "5               2         5.80         64.0        3400.0       6-2018  \n",
      "6               2         6.21         32.0        3400.0      12-2018  \n",
      "7               6         6.21         64.0        3400.0       1-2019  \n",
      "8               3         6.21        128.0        3400.0       1-2021  \n",
      "9               8         6.21         64.0        3400.0      12-2018  \n"
     ]
    }
   ],
   "source": [
    "# sampel data\n",
    "print(phones.head(10))"
   ]
  },
  {
   "cell_type": "code",
   "execution_count": 49,
   "metadata": {},
   "outputs": [
    {
     "name": "stdout",
     "output_type": "stream",
     "text": [
      "      Unnamed: 0 brand_name  \\\n",
      "600          600     HUAWEI   \n",
      "432          432    Samsung   \n",
      "543          543    Samsung   \n",
      "1156        1156      Apple   \n",
      "1150        1150      Apple   \n",
      "1157        1157      Apple   \n",
      "1151        1151      Apple   \n",
      "915          915  Microsoft   \n",
      "1135        1135      Apple   \n",
      "517          517    Samsung   \n",
      "\n",
      "                                             model_name       os  popularity  \\\n",
      "600        Mate Xs 8/512GB Interstellar blue (51095CSQ)  Android         740   \n",
      "432                          Galaxy Fold 12/256GB Black  Android         298   \n",
      "543   Galaxy Z Fold2 12/256GB Mystic Black (SM-F916B...  Android        1099   \n",
      "1156  iPhone 12 Pro Max 512GB Dual Sim Pacific Blue ...      iOS         872   \n",
      "1150  iPhone 12 Pro 512GB Dual Sim Pacific Blue (MGLM3)      iOS         724   \n",
      "1157       iPhone 12 Pro Max 512GB Pacific Blue (MGDL3)      iOS        1103   \n",
      "1151     iPhone 12 Pro 512GB Pacific Blue (MGMX3/MGM43)      iOS         873   \n",
      "915                   Surface Duo 6GB/256GB (TGM-00001)  Android         501   \n",
      "1135    iPhone 11 Pro Max 512GB Dual Sim Silver (MWF62)      iOS         379   \n",
      "517   Galaxy S21 Ultra 16/512GB Phantom Black (SM-G9...  Android        1136   \n",
      "\n",
      "      best_price  lowest_price  highest_price  sellers_amount  screen_size  \\\n",
      "600      56082.0       49999.0        69999.0               6          NaN   \n",
      "432      55338.0       45799.0        59999.0               4          7.3   \n",
      "543      51460.0       44809.0        59999.0              33          7.6   \n",
      "1156     49242.0       45120.0        64999.0              33          6.7   \n",
      "1150     46503.0       44199.0        50760.0              29          6.1   \n",
      "1157     46325.0       43396.0        57999.0              92          6.7   \n",
      "1151     44716.0       41996.0        51999.0              82          6.1   \n",
      "915      44232.0       42999.0        46879.0               5          8.1   \n",
      "1135     42968.0       37639.0        46399.0              34          6.5   \n",
      "517      42649.0       36899.0        43999.0              26          6.8   \n",
      "\n",
      "      memory_size  battery_size release_date  \n",
      "600         512.0        4500.0       7-2020  \n",
      "432         256.0        4380.0      11-2019  \n",
      "543         256.0        4500.0       8-2020  \n",
      "1156        512.0        3687.0      11-2020  \n",
      "1150        512.0        2815.0      10-2020  \n",
      "1157        512.0        3687.0      10-2020  \n",
      "1151        512.0        2815.0      10-2020  \n",
      "915         256.0        3577.0       1-2021  \n",
      "1135        512.0        3969.0      10-2019  \n",
      "517         512.0        5000.0       1-2021  \n"
     ]
    }
   ],
   "source": [
    "# sorting best_price ascending\n",
    "bestPriceAscending = phones.sort_values([\"best_price\"], ascending=[0])\n",
    "# sampel data\n",
    "print(bestPriceAscending[0:10])\n"
   ]
  },
  {
   "cell_type": "code",
   "execution_count": 53,
   "metadata": {},
   "outputs": [
    {
     "name": "stdout",
     "output_type": "stream",
     "text": [
      "      Unnamed: 0 brand_name            model_name   os  popularity  \\\n",
      "141          141      Astro        A144 Black/Red  NaN         519   \n",
      "1093        1093       Nomi           i144m Black  NaN         492   \n",
      "1094        1094       Nomi            i144m Blue  NaN         844   \n",
      "1091        1091       Nomi             i144c Red  NaN         409   \n",
      "1092        1092       Nomi             i144c Red  NaN         398   \n",
      "904          904      Jinga    Simple F200n Black  NaN         292   \n",
      "931          931      Viaan            V182 Black  NaN          19   \n",
      "1090        1090       Nomi           i144c Black  NaN         486   \n",
      "905          905      Jinga    Simple F200n Black  NaN         331   \n",
      "150          150     Rezone  A170 Point Dark Blue  NaN         156   \n",
      "\n",
      "      best_price  lowest_price  highest_price  sellers_amount  screen_size  \\\n",
      "141        214.0         199.0          229.0               2         1.77   \n",
      "1093       220.0         209.0          229.0               4         1.44   \n",
      "1094       235.0         198.0          314.0              24         1.44   \n",
      "1091       241.0         218.0          291.0              18         1.44   \n",
      "1092       241.0         218.0          291.0              18         1.44   \n",
      "904        249.0           NaN            NaN               1         1.77   \n",
      "931        249.0         239.0          259.0               2         1.80   \n",
      "1090       249.0         219.0          317.0              14         1.44   \n",
      "905        249.0           NaN            NaN               1         1.77   \n",
      "150        252.0         220.0          333.0              20         1.77   \n",
      "\n",
      "      memory_size  battery_size release_date  \n",
      "141         0.032         600.0       9-2019  \n",
      "1093          NaN         600.0       9-2020  \n",
      "1094          NaN         600.0      12-2019  \n",
      "1091          NaN         600.0       9-2020  \n",
      "1092          NaN         600.0       9-2020  \n",
      "904         0.032         600.0       2-2020  \n",
      "931         0.032         600.0       9-2017  \n",
      "1090          NaN         600.0       9-2020  \n",
      "905         0.032         600.0       2-2020  \n",
      "150           NaN         600.0       4-2019  \n"
     ]
    }
   ],
   "source": [
    "# sorting best_price descending\n",
    "bestPriceDescending = phones.sort_values([\"best_price\"], ascending=[1])\n",
    "# sampel data\n",
    "print(bestPriceDescending[0:10])"
   ]
  },
  {
   "cell_type": "code",
   "execution_count": 56,
   "metadata": {},
   "outputs": [
    {
     "data": {
      "text/html": [
       "<div>\n",
       "<style scoped>\n",
       "    .dataframe tbody tr th:only-of-type {\n",
       "        vertical-align: middle;\n",
       "    }\n",
       "\n",
       "    .dataframe tbody tr th {\n",
       "        vertical-align: top;\n",
       "    }\n",
       "\n",
       "    .dataframe thead th {\n",
       "        text-align: right;\n",
       "    }\n",
       "</style>\n",
       "<table border=\"1\" class=\"dataframe\">\n",
       "  <thead>\n",
       "    <tr style=\"text-align: right;\">\n",
       "      <th></th>\n",
       "      <th>Unnamed: 0</th>\n",
       "      <th>popularity</th>\n",
       "      <th>best_price</th>\n",
       "      <th>lowest_price</th>\n",
       "      <th>highest_price</th>\n",
       "      <th>sellers_amount</th>\n",
       "      <th>screen_size</th>\n",
       "      <th>memory_size</th>\n",
       "      <th>battery_size</th>\n",
       "    </tr>\n",
       "  </thead>\n",
       "  <tbody>\n",
       "    <tr>\n",
       "      <th>count</th>\n",
       "      <td>1224.000000</td>\n",
       "      <td>1224.000000</td>\n",
       "      <td>1224.000000</td>\n",
       "      <td>964.000000</td>\n",
       "      <td>964.000000</td>\n",
       "      <td>1224.000000</td>\n",
       "      <td>1222.000000</td>\n",
       "      <td>1112.000000</td>\n",
       "      <td>1214.000000</td>\n",
       "    </tr>\n",
       "    <tr>\n",
       "      <th>mean</th>\n",
       "      <td>611.500000</td>\n",
       "      <td>612.500000</td>\n",
       "      <td>7941.206699</td>\n",
       "      <td>7716.018672</td>\n",
       "      <td>9883.410788</td>\n",
       "      <td>16.743464</td>\n",
       "      <td>5.394378</td>\n",
       "      <td>95.700059</td>\n",
       "      <td>3608.201812</td>\n",
       "    </tr>\n",
       "    <tr>\n",
       "      <th>std</th>\n",
       "      <td>353.482673</td>\n",
       "      <td>353.482673</td>\n",
       "      <td>8891.836260</td>\n",
       "      <td>8560.959059</td>\n",
       "      <td>11514.936818</td>\n",
       "      <td>20.597006</td>\n",
       "      <td>1.476991</td>\n",
       "      <td>111.922576</td>\n",
       "      <td>1668.268774</td>\n",
       "    </tr>\n",
       "    <tr>\n",
       "      <th>min</th>\n",
       "      <td>0.000000</td>\n",
       "      <td>1.000000</td>\n",
       "      <td>214.000000</td>\n",
       "      <td>198.000000</td>\n",
       "      <td>229.000000</td>\n",
       "      <td>1.000000</td>\n",
       "      <td>1.400000</td>\n",
       "      <td>0.003200</td>\n",
       "      <td>460.000000</td>\n",
       "    </tr>\n",
       "    <tr>\n",
       "      <th>25%</th>\n",
       "      <td>305.750000</td>\n",
       "      <td>306.750000</td>\n",
       "      <td>2599.750000</td>\n",
       "      <td>2399.000000</td>\n",
       "      <td>2887.000000</td>\n",
       "      <td>2.000000</td>\n",
       "      <td>5.162500</td>\n",
       "      <td>32.000000</td>\n",
       "      <td>2900.000000</td>\n",
       "    </tr>\n",
       "    <tr>\n",
       "      <th>50%</th>\n",
       "      <td>611.500000</td>\n",
       "      <td>612.500000</td>\n",
       "      <td>4728.000000</td>\n",
       "      <td>4574.000000</td>\n",
       "      <td>5325.500000</td>\n",
       "      <td>8.000000</td>\n",
       "      <td>6.000000</td>\n",
       "      <td>64.000000</td>\n",
       "      <td>3687.000000</td>\n",
       "    </tr>\n",
       "    <tr>\n",
       "      <th>75%</th>\n",
       "      <td>917.250000</td>\n",
       "      <td>918.250000</td>\n",
       "      <td>9323.000000</td>\n",
       "      <td>9262.250000</td>\n",
       "      <td>12673.750000</td>\n",
       "      <td>26.000000</td>\n",
       "      <td>6.400000</td>\n",
       "      <td>128.000000</td>\n",
       "      <td>4400.000000</td>\n",
       "    </tr>\n",
       "    <tr>\n",
       "      <th>max</th>\n",
       "      <td>1223.000000</td>\n",
       "      <td>1224.000000</td>\n",
       "      <td>56082.000000</td>\n",
       "      <td>49999.000000</td>\n",
       "      <td>69999.000000</td>\n",
       "      <td>125.000000</td>\n",
       "      <td>8.100000</td>\n",
       "      <td>1000.000000</td>\n",
       "      <td>18800.000000</td>\n",
       "    </tr>\n",
       "  </tbody>\n",
       "</table>\n",
       "</div>"
      ],
      "text/plain": [
       "        Unnamed: 0   popularity    best_price  lowest_price  highest_price  \\\n",
       "count  1224.000000  1224.000000   1224.000000    964.000000     964.000000   \n",
       "mean    611.500000   612.500000   7941.206699   7716.018672    9883.410788   \n",
       "std     353.482673   353.482673   8891.836260   8560.959059   11514.936818   \n",
       "min       0.000000     1.000000    214.000000    198.000000     229.000000   \n",
       "25%     305.750000   306.750000   2599.750000   2399.000000    2887.000000   \n",
       "50%     611.500000   612.500000   4728.000000   4574.000000    5325.500000   \n",
       "75%     917.250000   918.250000   9323.000000   9262.250000   12673.750000   \n",
       "max    1223.000000  1224.000000  56082.000000  49999.000000   69999.000000   \n",
       "\n",
       "       sellers_amount  screen_size  memory_size  battery_size  \n",
       "count     1224.000000  1222.000000  1112.000000   1214.000000  \n",
       "mean        16.743464     5.394378    95.700059   3608.201812  \n",
       "std         20.597006     1.476991   111.922576   1668.268774  \n",
       "min          1.000000     1.400000     0.003200    460.000000  \n",
       "25%          2.000000     5.162500    32.000000   2900.000000  \n",
       "50%          8.000000     6.000000    64.000000   3687.000000  \n",
       "75%         26.000000     6.400000   128.000000   4400.000000  \n",
       "max        125.000000     8.100000  1000.000000  18800.000000  "
      ]
     },
     "execution_count": 56,
     "metadata": {},
     "output_type": "execute_result"
    }
   ],
   "source": [
    "phones.describe()"
   ]
  },
  {
   "cell_type": "code",
   "execution_count": null,
   "metadata": {},
   "outputs": [],
   "source": []
  }
 ],
 "metadata": {
  "kernelspec": {
   "display_name": "Python 3.11.0 64-bit",
   "language": "python",
   "name": "python3"
  },
  "language_info": {
   "codemirror_mode": {
    "name": "ipython",
    "version": 3
   },
   "file_extension": ".py",
   "mimetype": "text/x-python",
   "name": "python",
   "nbconvert_exporter": "python",
   "pygments_lexer": "ipython3",
   "version": "3.11.0"
  },
  "orig_nbformat": 4,
  "vscode": {
   "interpreter": {
    "hash": "4d533db97f1a493f1c0e30155616442f08e4c1e25c1b2ec566805f34b146e544"
   }
  }
 },
 "nbformat": 4,
 "nbformat_minor": 2
}
