{
 "cells": [
  {
   "cell_type": "code",
   "execution_count": 2,
   "metadata": {},
   "outputs": [],
   "source": [
    "# Import dulu\n",
    "import pandas as pd\n",
    "import matplotlib as plt\n",
    "\n",
    "# Terus di read\n",
    "phones = pd.read_csv(\"phones_data.csv\")"
   ]
  },
  {
   "cell_type": "code",
   "execution_count": 10,
   "metadata": {},
   "outputs": [
    {
     "name": "stdout",
     "output_type": "stream",
     "text": [
      ".csv\n"
     ]
    }
   ],
   "source": [
    "# Format dataset \n",
    "import os\n",
    "print(os.path.splitext(\"phones_data.csv\")[1])"
   ]
  },
  {
   "cell_type": "code",
   "execution_count": 9,
   "metadata": {},
   "outputs": [
    {
     "name": "stdout",
     "output_type": "stream",
     "text": [
      "1224 baris 13 kolom\n"
     ]
    }
   ],
   "source": [
    "# Dimensi dataset\n",
    "print(f\"{len(phones)} baris {len(phones.columns)} kolom\")"
   ]
  },
  {
   "cell_type": "code",
   "execution_count": 11,
   "metadata": {},
   "outputs": [
    {
     "name": "stdout",
     "output_type": "stream",
     "text": [
      "115924 bytes\n"
     ]
    }
   ],
   "source": [
    "# Ukuran file dataset\n",
    "import os\n",
    "print(os.path.getsize(\"phones_data.csv\"), \"bytes\")"
   ]
  },
  {
   "cell_type": "code",
   "execution_count": null,
   "metadata": {},
   "outputs": [],
   "source": [
    "# Atribut dalam dataset\n",
    "print(\"Atribut yang terdapat di dalam dataset antara lain: \")\n",
    "for i in range (0, len(phones.columns)) :\n",
    "   print(f\"{i+1}. {phones.columns[i]}\")"
   ]
  },
  {
   "cell_type": "code",
   "execution_count": null,
   "metadata": {},
   "outputs": [],
   "source": [
    "# operating system\n",
    "print(\"Nama operating system HP\")\n",
    "print(phones[\"os\"].value_counts())\n",
    "print(\"Berapa banyak yang max:\", (phones[\"os\"].value_counts() == phones[\"os\"].value_counts().max()).sum())\n",
    "print(\"Max:\", phones[\"os\"].value_counts().idxmax())\n",
    "print(\"Berapa banyak yang min:\", (phones[\"os\"].value_counts() == phones[\"os\"].value_counts().min()).sum())\n",
    "print(\"Min:\", phones[\"os\"].value_counts().idxmin())\n",
    "print(\"Banyak data kosong:\", phones[\"os\"].isnull().sum())\n",
    "print(\"Persentase data kosong:\", round((((phones[\"os\"].isnull().sum())/(len(phones)))*100),2), \"%\")"
   ]
  },
  {
   "cell_type": "code",
   "execution_count": null,
   "metadata": {},
   "outputs": [],
   "source": [
    "# popularity\n",
    "print(\"Popularitas HP\")\n",
    "popularity = phones.sort_values([\"popularity\"], ascending=[1])\n",
    "print(\"Paling populer\")\n",
    "print(popularity[1223:1224][\"brand_name\"])\n",
    "print(popularity[1223:1224][\"model_name\"])\n",
    "print(\"Paling tidak populer\")\n",
    "print(popularity[0:1][\"brand_name\"])\n",
    "print(popularity[0:1][\"model_name\"])\n",
    "print(\"Banyak data kosong:\", phones[\"popularity\"].isnull().sum())\n"
   ]
  },
  {
   "cell_type": "code",
   "execution_count": null,
   "metadata": {},
   "outputs": [],
   "source": [
    "# best_price\n",
    "print(\"Range harga terbaik penjualan\")\n",
    "print(\"min:\", phones[\"best_price\"].min())\n",
    "print(phones.loc[phones[\"best_price\"] == phones[\"best_price\"].min()])\n",
    "print(\"max:\", phones[\"best_price\"].max())\n",
    "print(phones.loc[phones[\"best_price\"] == phones[\"best_price\"].max()])\n",
    "print(\"Banyak data kosong:\", phones[\"best_price\"].isnull().sum())\n",
    "print(\"Persentase data kosong:\", round((((phones[\"best_price\"].isnull().sum())/(len(phones)))*100),2), \"%\")"
   ]
  },
  {
   "cell_type": "code",
   "execution_count": null,
   "metadata": {},
   "outputs": [],
   "source": [
    "# lowest_price\n",
    "print(\"Range harga terendah penjualan\")\n",
    "print(\"min:\", phones[\"lowest_price\"].min())\n",
    "print(phones.loc[phones[\"lowest_price\"] == phones[\"lowest_price\"].min()])\n",
    "print(\"max:\", phones[\"lowest_price\"].max())\n",
    "print(phones.loc[phones[\"lowest_price\"] == phones[\"lowest_price\"].max()])\n",
    "print(\"Banyak data kosong:\", phones[\"lowest_price\"].isnull().sum())\n",
    "print(\"Persentase data kosong:\", round((((phones[\"lowest_price\"].isnull().sum())/(len(phones)))*100),2), \"%\")"
   ]
  },
  {
   "cell_type": "code",
   "execution_count": null,
   "metadata": {},
   "outputs": [],
   "source": [
    "# highest_price\n",
    "print(\"Range harga tertinggi penjualan\")\n",
    "print(\"min:\", phones[\"highest_price\"].min())\n",
    "print(phones.loc[phones[\"highest_price\"] == phones[\"highest_price\"].min()])\n",
    "print(\"max:\", phones[\"highest_price\"].max())\n",
    "print(phones.loc[phones[\"highest_price\"] == phones[\"highest_price\"].max()])\n",
    "print(\"Banyak data kosong:\", phones[\"highest_price\"].isnull().sum())\n",
    "print(\"Persentase data kosong:\", round((((phones[\"highest_price\"].isnull().sum())/(len(phones)))*100),2), \"%\")"
   ]
  },
  {
   "cell_type": "code",
   "execution_count": null,
   "metadata": {},
   "outputs": [],
   "source": [
    "# sellers_amount\n",
    "print(\"Range banyak penjual\")\n",
    "print(\"min:\", phones[\"sellers_amount\"].min())\n",
    "print(\"Banyak HP dengan penjual minimal:\", (phones[\"sellers_amount\"].value_counts() == phones[\"sellers_amount\"].value_counts().min()).sum())\n",
    "print(\"max:\", phones[\"sellers_amount\"].max())\n",
    "print(\"Banyak HP dengan penjual minimal:\", (phones[\"sellers_amount\"].value_counts() == phones[\"sellers_amount\"].value_counts().max()).sum())\n",
    "print(\"Banyak data kosong:\", phones[\"sellers_amount\"].isnull().sum())\n",
    "print(\"Persentase data kosong:\", round((((phones[\"sellers_amount\"].isnull().sum())/(len(phones)))*100),2), \"%\")"
   ]
  },
  {
   "cell_type": "code",
   "execution_count": null,
   "metadata": {},
   "outputs": [],
   "source": [
    "# screen_size\n",
    "print(\"Range ukuran HP dibuat (inch)\")\n",
    "print(\"min:\", phones[\"screen_size\"].min())\n",
    "print(phones.loc[phones[\"screen_size\"] == phones[\"screen_size\"].min()])\n",
    "print(\"max:\", phones[\"screen_size\"].max())\n",
    "print(phones.loc[phones[\"screen_size\"] == phones[\"screen_size\"].max()])\n",
    "print(\"Banyak data kosong:\", phones[\"screen_size\"].isnull().sum())\n",
    "print(\"Persentase data kosong:\", round((((phones[\"screen_size\"].isnull().sum())/(len(phones)))*100),2), \"%\")\n"
   ]
  },
  {
   "cell_type": "code",
   "execution_count": null,
   "metadata": {},
   "outputs": [],
   "source": [
    "# memory_size\n",
    "print(\"Range memori HP (GB)\")\n",
    "print(\"min:\", phones[\"memory_size\"].min())\n",
    "print(phones.loc[phones[\"memory_size\"] == phones[\"memory_size\"].min()])\n",
    "print(\"max:\", phones[\"memory_size\"].max())\n",
    "print(phones.loc[phones[\"memory_size\"] == phones[\"memory_size\"].max()])\n",
    "print(\"Banyak data kosong:\", phones[\"memory_size\"].isnull().sum())\n",
    "print(\"Persentase data kosong:\", round((((phones[\"memory_size\"].isnull().sum())/(len(phones)))*100),2), \"%\")\n"
   ]
  },
  {
   "cell_type": "code",
   "execution_count": 19,
   "metadata": {},
   "outputs": [
    {
     "name": "stdout",
     "output_type": "stream",
     "text": [
      "Range kapasitas bateri HP (mAh)\n",
      "min: 460.0\n",
      "     Unnamed: 0 brand_name model_name   os  popularity  best_price  \\\n",
      "584         584     Maxcom      MM111  NaN         453       563.0   \n",
      "585         585     Maxcom      MM111  NaN         458       563.0   \n",
      "\n",
      "     lowest_price  highest_price  sellers_amount  screen_size  memory_size  \\\n",
      "584         526.0          688.0              11          1.4        0.032   \n",
      "585         526.0          688.0              11          1.4        0.032   \n",
      "\n",
      "     battery_size release_date  \n",
      "584         460.0      12-2020  \n",
      "585         460.0      12-2020  \n",
      "max: 18800.0\n",
      "     Unnamed: 0 brand_name model_name   os  popularity  best_price  \\\n",
      "897         897      MAFAM  SUN6 Blue  NaN         282       899.0   \n",
      "\n",
      "     lowest_price  highest_price  sellers_amount  screen_size  memory_size  \\\n",
      "897           NaN            NaN               1          3.0          NaN   \n",
      "\n",
      "     battery_size release_date  \n",
      "897       18800.0      12-2019  \n",
      "Banyak data kosong: 10\n",
      "Persentase data kosong: 0.82 %\n"
     ]
    }
   ],
   "source": [
    "# battery_size\n",
    "print(\"Range kapasitas bateri HP (mAh)\")\n",
    "print(\"min:\", phones[\"battery_size\"].min())\n",
    "print(phones.loc[phones[\"battery_size\"] == phones[\"battery_size\"].min()])\n",
    "print(\"max:\", phones[\"battery_size\"].max())\n",
    "print(phones.loc[phones[\"battery_size\"] == phones[\"battery_size\"].max()])\n",
    "print(\"Banyak data kosong:\", phones[\"battery_size\"].isnull().sum())\n",
    "print(\"Persentase data kosong:\", round((((phones[\"battery_size\"].isnull().sum())/(len(phones)))*100),2), \"%\")\n"
   ]
  },
  {
   "cell_type": "code",
   "execution_count": 18,
   "metadata": {},
   "outputs": [
    {
     "name": "stdout",
     "output_type": "stream",
     "text": [
      "Range tahun HP dibuat\n",
      "min: Jan 2013\n",
      "      Unnamed: 0 brand_name        model_name       os  popularity  \\\n",
      "1050        1050       Sony  Xperia Z (Black)  Android         505   \n",
      "\n",
      "      best_price  lowest_price  highest_price  sellers_amount  screen_size  \\\n",
      "1050      2070.0           NaN            NaN               1          5.0   \n",
      "\n",
      "      memory_size  battery_size release_date  \n",
      "1050         16.0        2330.0       1-2013  \n",
      "max: Feb 2021\n",
      "     Unnamed: 0 brand_name          model_name       os  popularity  \\\n",
      "103         103     realme  7 6/64GB Mist Blue  Android         570   \n",
      "\n",
      "     best_price  lowest_price  highest_price  sellers_amount  screen_size  \\\n",
      "103      6215.0        5990.0         6658.0               3          6.5   \n",
      "\n",
      "     memory_size  battery_size release_date  \n",
      "103         64.0        5000.0       2-2021  \n",
      "Banyak data kosong: 0\n",
      "Persentase data kosong: 0.0 %\n"
     ]
    }
   ],
   "source": [
    "# KAMUS LOKAL\n",
    "# releaseDate: dataframe\n",
    "\n",
    "# release_date\n",
    "releaseDate = pd.to_datetime(phones[\"release_date\"])\n",
    "print(\"Range tahun HP dibuat\")\n",
    "print(\"min:\", releaseDate.min().strftime(\"%b %Y\"))\n",
    "print(phones.loc[releaseDate == releaseDate.min()])\n",
    "print(\"max:\", releaseDate.max().strftime(\"%b %Y\"))\n",
    "print(phones.loc[releaseDate == releaseDate.max()])\n",
    "print(\"Banyak data kosong:\", releaseDate.isnull().sum())\n",
    "print(\"Persentase data kosong:\", round((((releaseDate.isnull().sum())/(len(phones)))*100),2), \"%\")\n"
   ]
  },
  {
   "cell_type": "code",
   "execution_count": null,
   "metadata": {},
   "outputs": [],
   "source": [
    "# sampel data\n",
    "print(phones.head(10))"
   ]
  },
  {
   "cell_type": "code",
   "execution_count": null,
   "metadata": {},
   "outputs": [],
   "source": [
    "# sorting best_price ascending\n",
    "bestPriceAscending = phones.sort_values([\"best_price\"], ascending=[0])\n",
    "# sampel data\n",
    "print(bestPriceAscending[0:10])\n"
   ]
  },
  {
   "cell_type": "code",
   "execution_count": null,
   "metadata": {},
   "outputs": [],
   "source": [
    "# sorting best_price descending\n",
    "bestPriceDescending = phones.sort_values([\"best_price\"], ascending=[1])\n",
    "# sampel data\n",
    "print(bestPriceDescending[0:10])"
   ]
  },
  {
   "cell_type": "code",
   "execution_count": null,
   "metadata": {},
   "outputs": [],
   "source": [
    "phones.describe()"
   ]
  },
  {
   "cell_type": "code",
   "execution_count": null,
   "metadata": {},
   "outputs": [],
   "source": [
    "# Data cleansing\n",
    "# Mengecek null\n",
    "print(\"Mengecek apakah ada data kosong (null) dalam dataset\")\n",
    "print(phones.isnull().sum())"
   ]
  },
  {
   "cell_type": "code",
   "execution_count": 7,
   "metadata": {},
   "outputs": [
    {
     "name": "stdout",
     "output_type": "stream",
     "text": [
      "Mengecek apakah ada data dibawah 0 dalam atribut bertipe kuantitatif\n",
      "Unnamed: 0          int64\n",
      "brand_name         object\n",
      "model_name         object\n",
      "os                 object\n",
      "popularity          int64\n",
      "best_price        float64\n",
      "lowest_price      float64\n",
      "highest_price     float64\n",
      "sellers_amount      int64\n",
      "screen_size       float64\n",
      "memory_size       float64\n",
      "battery_size      float64\n",
      "release_date       object\n",
      "dtype: object \n",
      "\n",
      "Atribut Unnamed: 0 tidak mempunyai data negatif\n",
      "Atribut popularity tidak mempunyai data negatif\n",
      "Atribut best_price tidak mempunyai data negatif\n",
      "Atribut lowest_price tidak mempunyai data negatif\n",
      "Atribut highest_price tidak mempunyai data negatif\n",
      "Atribut sellers_amount tidak mempunyai data negatif\n",
      "Atribut screen_size tidak mempunyai data negatif\n",
      "Atribut memory_size tidak mempunyai data negatif\n",
      "Atribut battery_size tidak mempunyai data negatif\n"
     ]
    }
   ],
   "source": [
    "# mengecek data negatif\n",
    "print(\"Mengecek apakah ada data dibawah 0 dalam atribut bertipe kuantitatif\")\n",
    "print(phones.dtypes, \"\\n\")\n",
    "for attribute in phones.columns :\n",
    "    # print(attribute)\n",
    "    if phones[attribute].dtypes == \"int64\" or phones[attribute].dtypes == \"float64\" :\n",
    "        if len(phones.loc[phones[attribute] < 0]) > 0 :\n",
    "            print(f\"Atribut {attribute}  mempunyai data negatif sebanyak {phones.loc[phones[attribute] < 0].value_counts()}\")\n",
    "        else : \n",
    "            print(f\"Atribut {attribute} tidak mempunyai data negatif\")"
   ]
  },
  {
   "cell_type": "code",
   "execution_count": 8,
   "metadata": {},
   "outputs": [
    {
     "name": "stdout",
     "output_type": "stream",
     "text": [
      "Persentase data null\n",
      "Persentase data null dalam Unnamed: 0 adalah 0.0 %\n",
      "Persentase data null dalam brand_name adalah 0.0 %\n",
      "Persentase data null dalam model_name adalah 0.0 %\n",
      "Persentase data null dalam os adalah 16.09 %\n",
      "Persentase data null dalam popularity adalah 0.0 %\n",
      "Persentase data null dalam best_price adalah 0.0 %\n",
      "Persentase data null dalam lowest_price adalah 21.24 %\n",
      "Persentase data null dalam highest_price adalah 21.24 %\n",
      "Persentase data null dalam sellers_amount adalah 0.0 %\n",
      "Persentase data null dalam screen_size adalah 0.16 %\n",
      "Persentase data null dalam memory_size adalah 9.15 %\n",
      "Persentase data null dalam battery_size adalah 0.82 %\n",
      "Persentase data null dalam release_date adalah 0.0 %\n"
     ]
    }
   ],
   "source": [
    "# persentase data null\n",
    "print(\"Persentase data null\")\n",
    "for attribute in phones.columns :\n",
    "    print(\"Persentase data null dalam\", attribute, \"adalah\", round(phones[attribute].isnull().sum() * 100 / len(phones),2), \"%\")"
   ]
  },
  {
   "cell_type": "code",
   "execution_count": null,
   "metadata": {},
   "outputs": [],
   "source": [
    "# membersihkan \n",
    "phones = phones.dropna(subset=[\"os\", \"lowest_price\", \"highest_price\", \"battery_size\", \"screen_size\", \"memory_size\"])\n",
    "print(phones)"
   ]
  }
 ],
 "metadata": {
  "kernelspec": {
   "display_name": "Python 3.11.0 64-bit",
   "language": "python",
   "name": "python3"
  },
  "language_info": {
   "codemirror_mode": {
    "name": "ipython",
    "version": 3
   },
   "file_extension": ".py",
   "mimetype": "text/x-python",
   "name": "python",
   "nbconvert_exporter": "python",
   "pygments_lexer": "ipython3",
   "version": "3.11.0"
  },
  "orig_nbformat": 4,
  "vscode": {
   "interpreter": {
    "hash": "4d533db97f1a493f1c0e30155616442f08e4c1e25c1b2ec566805f34b146e544"
   }
  }
 },
 "nbformat": 4,
 "nbformat_minor": 2
}
